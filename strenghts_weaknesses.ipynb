{
 "cells": [
  {
   "cell_type": "code",
   "execution_count": 98,
   "metadata": {},
   "outputs": [],
   "source": [
    "import pandas as pd\n",
    "import numpy as np"
   ]
  },
  {
   "cell_type": "markdown",
   "metadata": {},
   "source": [
    "read csv from github"
   ]
  },
  {
   "cell_type": "code",
   "execution_count": 99,
   "metadata": {},
   "outputs": [],
   "source": [
    "url = \"https://raw.githubusercontent.com/philippdrebes/sda-hockey-c2d/main/data/dummy_data_complete.csv\"\n",
    "data = pd.read_csv(url, sep=\",\")\n",
    "data = data.drop(\"Unnamed: 0\", axis=1)"
   ]
  },
  {
   "cell_type": "markdown",
   "metadata": {},
   "source": [
    "group dataframe by player id"
   ]
  },
  {
   "cell_type": "code",
   "execution_count": 100,
   "metadata": {},
   "outputs": [],
   "source": [
    "avg_player = data.groupby(['Player ID', 'Position'], as_index=False).mean()\n",
    "avg_player = avg_player.drop(\"Group Id\", axis=1)\n"
   ]
  },
  {
   "cell_type": "markdown",
   "metadata": {},
   "source": [
    "group dataframe by position"
   ]
  },
  {
   "cell_type": "code",
   "execution_count": 101,
   "metadata": {},
   "outputs": [],
   "source": [
    "avg_position = data.groupby('Position', as_index=False).mean()\n",
    "avg_position = avg_position.drop(\"Group Id\", axis=1).drop(\"Player ID\", axis=1)"
   ]
  },
  {
   "cell_type": "markdown",
   "metadata": {},
   "source": [
    "create df with aggregated values (player values relative to average values of position)"
   ]
  },
  {
   "cell_type": "code",
   "execution_count": 102,
   "metadata": {},
   "outputs": [],
   "source": [
    "rows = avg_player.shape[0]\n",
    "values = []\n",
    "\n",
    "for i in range(rows):\n",
    "    dict_values = {}\n",
    "    pos = avg_player.at[i,\"Position\"]\n",
    "    dict_values[\"Player ID\"] = avg_player.at[i,\"Player ID\"]\n",
    "    for col in avg_player.columns:\n",
    "        if col != \"Player ID\" and col != \"Position\":\n",
    "            relative = avg_player.at[i, col] / avg_position.at[pos-1, col]\n",
    "            dict_values[col] = relative\n",
    "    values.append(dict_values)\n",
    "\n",
    "agg_df = pd.DataFrame(values)      \n",
    "\n",
    "\n",
    "    "
   ]
  },
  {
   "cell_type": "markdown",
   "metadata": {},
   "source": [
    "evaluate agg_df and create two dfs (strengths and weaknesses) filtering only top and bottom 3 values per player"
   ]
  },
  {
   "cell_type": "code",
   "execution_count": 103,
   "metadata": {},
   "outputs": [],
   "source": [
    "cols_for_evaluation = [col for col in agg_df.columns if col != \"Player ID\"]\n",
    "\n",
    "# Perform the nlargest calculation on the other columns\n",
    "strengths_df = (agg_df[cols_for_evaluation]\n",
    "                  .stack()\n",
    "                  .groupby(level=0)\n",
    "                  .nlargest(3)\n",
    "                  .unstack()\n",
    "                  .reset_index(level=1, drop=True)\n",
    "                  .reindex(columns=cols_for_evaluation))\n",
    "\n",
    "# Reinsert the \"Player ID\" column into strengths_df\n",
    "strengths_df.insert(0, 'Player ID', agg_df['Player ID'])\n",
    "\n",
    "# Perform the nlargest calculation on the other columns\n",
    "weaknesses_df = (agg_df[cols_for_evaluation]\n",
    "                  .stack()\n",
    "                  .groupby(level=0)\n",
    "                  .nsmallest(3)\n",
    "                  .unstack()\n",
    "                  .reset_index(level=1, drop=True)\n",
    "                  .reindex(columns=cols_for_evaluation))\n",
    "\n",
    "# Reinsert the \"Player ID\" column into strengths_df\n",
    "weaknesses_df.insert(0, 'Player ID', agg_df['Player ID'])"
   ]
  },
  {
   "cell_type": "markdown",
   "metadata": {},
   "source": [
    "create dictionaries containing the weaknesses and strenghts for each player with their actual value"
   ]
  },
  {
   "cell_type": "code",
   "execution_count": 104,
   "metadata": {},
   "outputs": [],
   "source": [
    "rows = strengths_df.shape[0]\n",
    "\n",
    "strengths_dict = {}\n",
    "weaknesses_dict = {}\n",
    "\n",
    "for i in range(rows):\n",
    "    strengths_dict[strengths_df.at[i, \"Player ID\"]] = {}\n",
    "    for col in strengths_df.columns:\n",
    "        if col != \"Player ID\" and not np.isnan(strengths_df.loc[i, col]):\n",
    "            strengths_dict[strengths_df.at[i, \"Player ID\"]][col] = avg_player.at[i, col]\n",
    "\n",
    "for i in range(rows):\n",
    "    weaknesses_dict[weaknesses_df.at[i, \"Player ID\"]] = {}\n",
    "    for col in weaknesses_df.columns:\n",
    "        if col != \"Player ID\" and not np.isnan(weaknesses_df.loc[i, col]):\n",
    "            weaknesses_dict[weaknesses_df.at[i, \"Player ID\"]][col] = avg_player.at[i, col]\n",
    "            "
   ]
  },
  {
   "cell_type": "code",
   "execution_count": 106,
   "metadata": {},
   "outputs": [
    {
     "name": "stdout",
     "output_type": "stream",
     "text": [
      "{'Distance / min (m)': 154.89731178720254, 'Speed (Ø) (km/h)': 12.515624362002374, 'Decelerations': 9.5}\n",
      "{'Accelerations (high)': 3.75, 'Acceleration Load (max.)': 7.887923703036062, 'Deceleration (max.) (m/s²)': -3.4111163239083373}\n"
     ]
    }
   ],
   "source": [
    "print(strengths_dict)\n",
    "print(weaknesses_dict)"
   ]
  }
 ],
 "metadata": {
  "kernelspec": {
   "display_name": "Python 3",
   "language": "python",
   "name": "python3"
  },
  "language_info": {
   "codemirror_mode": {
    "name": "ipython",
    "version": 3
   },
   "file_extension": ".py",
   "mimetype": "text/x-python",
   "name": "python",
   "nbconvert_exporter": "python",
   "pygments_lexer": "ipython3",
   "version": "3.9.13"
  },
  "orig_nbformat": 4
 },
 "nbformat": 4,
 "nbformat_minor": 2
}
