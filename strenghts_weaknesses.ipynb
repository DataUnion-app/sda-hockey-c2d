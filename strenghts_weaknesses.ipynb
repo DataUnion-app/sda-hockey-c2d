{
 "cells": [
  {
   "cell_type": "code",
   "execution_count": 98,
   "metadata": {},
   "outputs": [],
   "source": [
    "import pandas as pd\n",
    "import numpy as np"
   ]
  },
  {
   "cell_type": "markdown",
   "metadata": {},
   "source": [
    "read csv from github"
   ]
  },
  {
   "cell_type": "code",
   "execution_count": 99,
   "metadata": {},
   "outputs": [],
   "source": [
    "url = \"https://raw.githubusercontent.com/philippdrebes/sda-hockey-c2d/main/dummy%20data/dummy_data_complete.csv\"\n",
    "data = pd.read_csv(url, sep=\",\")\n",
    "data = data.drop(\"Unnamed: 0\", axis=1)"
   ]
  },
  {
   "cell_type": "markdown",
   "metadata": {},
   "source": [
    "group dataframe by player id"
   ]
  },
  {
   "cell_type": "code",
   "execution_count": 100,
   "metadata": {},
   "outputs": [],
   "source": [
    "avg_player = data.groupby(['Player ID', 'Position'], as_index=False).mean()\n",
    "avg_player = avg_player.drop(\"Group Id\", axis=1)\n"
   ]
  },
  {
   "cell_type": "markdown",
   "metadata": {},
   "source": [
    "group dataframe by position"
   ]
  },
  {
   "cell_type": "code",
   "execution_count": 101,
   "metadata": {},
   "outputs": [],
   "source": [
    "avg_position = data.groupby('Position', as_index=False).mean()\n",
    "avg_position = avg_position.drop(\"Group Id\", axis=1).drop(\"Player ID\", axis=1)"
   ]
  },
  {
   "cell_type": "markdown",
   "metadata": {},
   "source": [
    "create df with aggregated values (player values relative to average values of position)"
   ]
  },
  {
   "cell_type": "code",
   "execution_count": 102,
   "metadata": {},
   "outputs": [],
   "source": [
    "rows = avg_player.shape[0]\n",
    "values = []\n",
    "\n",
    "for i in range(rows):\n",
    "    dict_values = {}\n",
    "    pos = avg_player.at[i,\"Position\"]\n",
    "    dict_values[\"Player ID\"] = avg_player.at[i,\"Player ID\"]\n",
    "    for col in avg_player.columns:\n",
    "        if col != \"Player ID\" and col != \"Position\":\n",
    "            relative = avg_player.at[i, col] / avg_position.at[pos-1, col]\n",
    "            dict_values[col] = relative\n",
    "    values.append(dict_values)\n",
    "\n",
    "agg_df = pd.DataFrame(values)      \n",
    "\n",
    "\n",
    "    "
   ]
  },
  {
   "cell_type": "markdown",
   "metadata": {},
   "source": [
    "evaluate agg_df and create two dfs (strengths and weaknesses) filtering only top and bottom 3 values per player"
   ]
  },
  {
   "cell_type": "code",
   "execution_count": 103,
   "metadata": {},
   "outputs": [],
   "source": [
    "cols_for_evaluation = [col for col in agg_df.columns if col != \"Player ID\"]\n",
    "\n",
    "# Perform the nlargest calculation on the other columns\n",
    "strengths_df = (agg_df[cols_for_evaluation]\n",
    "                  .stack()\n",
    "                  .groupby(level=0)\n",
    "                  .nlargest(3)\n",
    "                  .unstack()\n",
    "                  .reset_index(level=1, drop=True)\n",
    "                  .reindex(columns=cols_for_evaluation))\n",
    "\n",
    "# Reinsert the \"Player ID\" column into strengths_df\n",
    "strengths_df.insert(0, 'Player ID', agg_df['Player ID'])\n",
    "\n",
    "# Perform the nlargest calculation on the other columns\n",
    "weaknesses_df = (agg_df[cols_for_evaluation]\n",
    "                  .stack()\n",
    "                  .groupby(level=0)\n",
    "                  .nsmallest(3)\n",
    "                  .unstack()\n",
    "                  .reset_index(level=1, drop=True)\n",
    "                  .reindex(columns=cols_for_evaluation))\n",
    "\n",
    "# Reinsert the \"Player ID\" column into strengths_df\n",
    "weaknesses_df.insert(0, 'Player ID', agg_df['Player ID'])"
   ]
  },
  {
   "cell_type": "markdown",
   "metadata": {},
   "source": [
    "create dictionaries containing the weaknesses and strenghts for each player with their actual value"
   ]
  },
  {
   "cell_type": "code",
   "execution_count": 104,
   "metadata": {},
   "outputs": [],
   "source": [
    "rows = strengths_df.shape[0]\n",
    "\n",
    "strengths_dict = {}\n",
    "weaknesses_dict = {}\n",
    "\n",
    "for i in range(rows):\n",
    "    strengths_dict[strengths_df.at[i, \"Player ID\"]] = {}\n",
    "    for col in strengths_df.columns:\n",
    "        if col != \"Player ID\" and not np.isnan(strengths_df.loc[i, col]):\n",
    "            strengths_dict[strengths_df.at[i, \"Player ID\"]][col] = avg_player.at[i, col]\n",
    "\n",
    "for i in range(rows):\n",
    "    weaknesses_dict[weaknesses_df.at[i, \"Player ID\"]] = {}\n",
    "    for col in weaknesses_df.columns:\n",
    "        if col != \"Player ID\" and not np.isnan(weaknesses_df.loc[i, col]):\n",
    "            weaknesses_dict[weaknesses_df.at[i, \"Player ID\"]][col] = avg_player.at[i, col]\n",
    "            "
   ]
  },
  {
   "cell_type": "code",
   "execution_count": 105,
   "metadata": {},
   "outputs": [
    {
     "name": "stdout",
     "output_type": "stream",
     "text": [
      "{63: {'Distance / min (m)': 154.89731178720254, 'Speed (Ø) (km/h)': 12.515624362002374, 'Decelerations': 9.5}, 64: {'High Metabolic Power Distance (m)': 735.75, 'High Metabolic Power Distance / min (m)': 26.222071207772213, 'Deceleration (max.) (m/s²)': -3.800282490008583}, 65: {'Distance (m)': 5721.25, 'Accelerations (high)': 4.5, 'Acceleration Load (max.)': 9.089854669544192}, 66: {'Distance (m)': 5474.75, 'High Metabolic Power Distance (m)': 740.75, 'Acceleration Load (max.)': 8.98665359906896}, 67: {'Time on Ice (s)': 2529.25, 'Speed (max.) (km/h)': 22.926330264149545, 'Deceleration (max.) (m/s²)': -3.812561704282038}, 68: {'Distance (m)': 5465.75, 'Distance / min (m)': 152.681731449089, 'Time on Ice (s)': 2385.25}, 69: {'High Metabolic Power Distance / min (m)': 26.121472497493826, 'Accelerations (high)': 4.75, 'Deceleration (max.) (m/s²)': -3.9094588423428247}, 70: {'Time on Ice (s)': 2476.25, 'Accelerations (high)': 5.0, 'Acceleration (max.) (m/s²)': 2.5173715748045677}, 71: {'Distance / min (m)': 145.32206946755213, 'Acceleration Load (max.)': 8.765520059252118, 'Acceleration (max.) (m/s²)': 2.4393888623116897}, 72: {'Speed (max.) (km/h)': 22.855609919382324, 'Speed (Ø) (km/h)': 12.506382506950604, 'Acceleration (max.) (m/s²)': 2.453593984920067}, 73: {'Accelerations (high)': 4.5, 'Accelerations': 8.0, 'Decelerations': 9.5}, 74: {'Distance (m)': 5420.0, 'High Metabolic Power Distance / min (m)': 26.54092086439864, 'Acceleration (max.) (m/s²)': 2.6318461774330313}, 75: {'Distance / min (m)': 152.19651056763104, 'Accelerations (high)': 4.5, 'Acceleration (max.) (m/s²)': 2.548898467303552}, 76: {'High Metabolic Power Distance (m)': 731.75, 'Accelerations (high)': 4.75, 'Decelerations': 9.5}, 77: {'Acceleration Load (max.)': 8.423857606660125, 'Speed (max.) (km/h)': 21.74577473712676, 'Acceleration (max.) (m/s²)': 2.5923244835693096}, 78: {'Distance (m)': 5300.75, 'High Metabolic Power Distance / min (m)': 25.08441510442364, 'Accelerations': 7.0}, 79: {'Time on Ice (s)': 2471.25, 'High Metabolic Power Distance / min (m)': 24.876023253948986, 'Speed (Ø) (km/h)': 11.975662045453266}, 80: {'Distance / min (m)': 141.79899558504644, 'High Metabolic Power Distance (m)': 738.0, 'Accelerations (high)': 4.25}, 81: {'Distance (m)': 5583.25, 'Accelerations (high)': 4.5, 'Decelerations': 9.75}, 82: {'Distance (m)': 5946.5, 'Deceleration (max.) (m/s²)': -3.6386839517536727, 'Accelerations': 7.25}, 83: {'High Metabolic Power Distance / min (m)': 27.293498362916896, 'Accelerations (high)': 4.75, 'Deceleration (max.) (m/s²)': -3.8292926656672917}, 84: {'Distance (m)': 5425.0, 'Time on Ice (s)': 2345.25, 'Speed (Ø) (km/h)': 11.673715458289072}, 85: {'Accelerations (high)': 4.5, 'Speed (max.) (km/h)': 21.865453994613553, 'Acceleration (max.) (m/s²)': 2.5300587326707515}, 86: {'Distance (m)': 5829.5, 'Time on Ice (s)': 2407.25, 'High Metabolic Power Distance / min (m)': 23.679655819983573}, 87: {'High Metabolic Power Distance (m)': 751.5, 'Speed (max.) (km/h)': 22.98511710619631, 'Accelerations': 7.5}, 88: {'High Metabolic Power Distance (m)': 762.0, 'Acceleration Load (max.)': 8.99722038012575, 'Deceleration (max.) (m/s²)': -3.826351203557966}, 89: {'Speed (Ø) (km/h)': 12.047106132220703, 'Accelerations': 7.75, 'Decelerations': 10.25}, 90: {'Distance / min (m)': 146.23508515807845, 'Time on Ice (s)': 2492.0, 'Speed (Ø) (km/h)': 11.867527399566155}, 91: {'Distance (m)': 5586.5, 'Deceleration (max.) (m/s²)': -3.7575450370654147, 'Decelerations': 10.5}, 92: {'High Metabolic Power Distance (m)': 730.25, 'Acceleration Load (max.)': 8.704879666924558, 'Deceleration (max.) (m/s²)': -3.73501723420758}, 93: {'Time on Ice (s)': 2512.0, 'High Metabolic Power Distance (m)': 756.5, 'Acceleration Load (max.)': 9.143794005564608}, 94: {'Distance (m)': 5507.25, 'Distance / min (m)': 149.90312822861526, 'Acceleration Load (max.)': 8.987208397432244}, 95: {'Distance (m)': 5638.25, 'High Metabolic Power Distance / min (m)': 25.93942528435453, 'Speed (Ø) (km/h)': 11.662806810726558}, 96: {'Distance (m)': 5338.25, 'Speed (Ø) (km/h)': 11.46591925926145, 'Deceleration (max.) (m/s²)': -3.682342669566887}, 97: {'High Metabolic Power Distance (m)': 740.75, 'Speed (max.) (km/h)': 21.908450386615694, 'Decelerations': 10.0}, 98: {'Time on Ice (s)': 2417.0, 'Accelerations (high)': 4.25, 'Decelerations': 10.25}, 99: {'Acceleration Load (max.)': 8.913509155668683, 'Speed (max.) (km/h)': 23.36936908542912, 'Decelerations': 9.75}, 100: {'High Metabolic Power Distance / min (m)': 25.646248910594753, 'Acceleration (max.) (m/s²)': 2.5561929548595432, 'Accelerations': 7.5}, 101: {'Acceleration Load (max.)': 8.86605833720306, 'Speed (max.) (km/h)': 21.881056426851757, 'Accelerations': 7.25}, 102: {'Distance (m)': 5790.0, 'High Metabolic Power Distance (m)': 726.25, 'Acceleration (max.) (m/s²)': 2.5869859883739212}, 103: {'Deceleration (max.) (m/s²)': -3.74330589480301, 'Accelerations': 7.25, 'Decelerations': 9.75}, 104: {'Accelerations (very high)': 1.25, 'Acceleration (max.) (m/s²)': 2.4065920477043994, 'Accelerations': 7.5}, 105: {'Distance / min (m)': 162.76598246417652, 'Time on Ice (s)': 2426.0, 'Speed (max.) (km/h)': 21.84324861196266}, 106: {'Acceleration Load (max.)': 9.178961349042504, 'Accelerations': 7.75, 'Decelerations': 10.5}, 107: {'Distance (m)': 5337.5, 'Time on Ice (s)': 2402.75, 'Deceleration (max.) (m/s²)': -3.8116313723693938}, 108: {'High Metabolic Power Distance (m)': 741.0, 'Accelerations (very high)': 1.25, 'Decelerations': 9.75}, 109: {'Acceleration (max.) (m/s²)': 2.478637856011876, 'Deceleration (max.) (m/s²)': -3.7932462808741874, 'Accelerations': 7.5}, 110: {'Time on Ice (s)': 2494.75, 'Accelerations (high)': 4.5, 'Speed (Ø) (km/h)': 11.794118529469708}, 111: {'High Metabolic Power Distance / min (m)': 24.225820867013027, 'Speed (Ø) (km/h)': 11.674183937964159, 'Decelerations': 9.5}, 112: {'Distance / min (m)': 145.4341572275559, 'Speed (max.) (km/h)': 22.325306952877533, 'Acceleration (max.) (m/s²)': 2.514509534260803}, 113: {'Time on Ice (s)': 2497.5, 'High Metabolic Power Distance (m)': 726.0, 'Deceleration (max.) (m/s²)': -3.7507959227526317}, 114: {'Acceleration Load (max.)': 9.318201020139556, 'Speed (max.) (km/h)': 23.79841893214539, 'Acceleration (max.) (m/s²)': 2.570941460158961}, 115: {'Time on Ice (s)': 2452.0, 'Accelerations (high)': 4.5, 'Accelerations': 7.5}, 116: {'High Metabolic Power Distance (m)': 759.75, 'Accelerations (high)': 4.5, 'Acceleration Load (max.)': 9.2342646436833}, 117: {'High Metabolic Power Distance / min (m)': 26.233431770235367, 'Speed (max.) (km/h)': 23.517401763065088, 'Decelerations': 9.5}, 118: {'Distance / min (m)': 151.50896029763106, 'Accelerations (high)': 4.75, 'Accelerations': 7.75}, 119: {'High Metabolic Power Distance / min (m)': 25.78549569161327, 'Acceleration Load (max.)': 8.778043455229753, 'Speed (max.) (km/h)': 23.344544908717673}, 120: {'High Metabolic Power Distance (m)': 703.75, 'High Metabolic Power Distance / min (m)': 24.273933882220923, 'Acceleration (max.) (m/s²)': 2.445727994839346}, 121: {'Distance / min (m)': 150.55663355647138, 'High Metabolic Power Distance (m)': 780.5, 'High Metabolic Power Distance / min (m)': 27.1824576777705}, 122: {'Time on Ice (s)': 2420.5, 'Speed (Ø) (km/h)': 12.531780913448936, 'Accelerations': 7.5}, 123: {'Time on Ice (s)': 2449.5, 'High Metabolic Power Distance (m)': 725.75, 'Accelerations (high)': 4.25}, 124: {'High Metabolic Power Distance / min (m)': 26.228550842284534, 'Accelerations (high)': 4.5, 'Accelerations': 7.25}, 125: {'Acceleration Load (max.)': 8.58954974113306, 'Accelerations': 7.0, 'Decelerations': 9.5}, 126: {'Distance / min (m)': 146.18059272908147, 'Time on Ice (s)': 2494.25, 'Accelerations': 7.5}, 127: {'Distance (m)': 5549.25, 'Accelerations (high)': 4.5, 'Decelerations': 9.75}, 128: {'Time on Ice (s)': 2450.75, 'Acceleration Load (max.)': 8.99552689896997, 'Deceleration (max.) (m/s²)': -3.7511905897679085}, 129: {'Accelerations (very high)': 1.25, 'Speed (Ø) (km/h)': 12.90006544758848, 'Accelerations': 7.5}, 130: {'Distance (m)': 5490.75, 'Distance / min (m)': 142.99565318806012, 'Acceleration Load (max.)': 8.643991649898453}, 131: {'Distance / min (m)': 146.90108477566906, 'Accelerations (high)': 4.5, 'Decelerations': 9.75}, 132: {'High Metabolic Power Distance / min (m)': 27.884895546730416, 'Accelerations (high)': 4.75, 'Deceleration (max.) (m/s²)': -3.964623760460311}, 133: {'High Metabolic Power Distance (m)': 723.5, 'High Metabolic Power Distance / min (m)': 24.135454863874706, 'Acceleration (max.) (m/s²)': 2.3143211882452546}, 134: {'Distance (m)': 5278.5, 'High Metabolic Power Distance / min (m)': 23.990769411155846, 'Deceleration (max.) (m/s²)': -3.750220608728837}, 135: {'Distance / min (m)': 152.41126608942227, 'Deceleration (max.) (m/s²)': -3.7998754139588407, 'Decelerations': 9.75}, 136: {'Speed (max.) (km/h)': 22.320497159601622, 'Speed (Ø) (km/h)': 11.90529891449646, 'Deceleration (max.) (m/s²)': -3.753004993000707}, 137: {'Distance (m)': 5367.75, 'Speed (Ø) (km/h)': 12.13771257669013, 'Accelerations': 7.75}, 138: {'Distance (m)': 5637.25, 'Time on Ice (s)': 2623.0, 'Acceleration Load (max.)': 9.221776704477685}, 139: {'Distance / min (m)': 147.86859837635083, 'Time on Ice (s)': 2363.0, 'High Metabolic Power Distance (m)': 750.5}, 140: {'Distance (m)': 5352.0, 'Distance / min (m)': 145.38791299242203, 'Accelerations': 7.5}, 141: {'Acceleration Load (max.)': 8.693007563267475, 'Speed (max.) (km/h)': 22.86682319798217, 'Deceleration (max.) (m/s²)': -3.7063005125365898}, 142: {'Distance (m)': 5689.0, 'Distance / min (m)': 145.60356982577983, 'Accelerations (high)': 4.25}, 143: {'Acceleration Load (max.)': 9.658576739479063, 'Speed (Ø) (km/h)': 12.853195543829587, 'Deceleration (max.) (m/s²)': -3.6800003602317846}, 144: {'High Metabolic Power Distance / min (m)': 25.41397344452127, 'Speed (Ø) (km/h)': 11.636734789933552, 'Deceleration (max.) (m/s²)': -3.599963137902682}, 145: {'Distance (m)': 5523.75, 'High Metabolic Power Distance (m)': 717.5, 'Speed (max.) (km/h)': 22.348106871732067}, 146: {'Distance / min (m)': 154.0393958706594, 'Speed (max.) (km/h)': 23.016631654901538, 'Deceleration (max.) (m/s²)': -3.7103306095862316}, 147: {'High Metabolic Power Distance (m)': 709.5, 'Accelerations (high)': 4.25, 'Deceleration (max.) (m/s²)': -3.62512656893342}, 148: {'Distance / min (m)': 154.42452904102095, 'Accelerations': 7.25, 'Decelerations': 10.0}, 149: {'Time on Ice (s)': 2452.5, 'Acceleration Load (max.)': 8.978574134106502, 'Decelerations': 9.75}, 150: {'Time on Ice (s)': 2277.25, 'Accelerations (very high)': 1.0, 'Acceleration (max.) (m/s²)': 2.4467560724585993}}\n",
      "{63: {'Accelerations (high)': 3.75, 'Acceleration Load (max.)': 7.887923703036062, 'Deceleration (max.) (m/s²)': -3.4111163239083373}, 64: {'Distance / min (m)': 130.42026221508354, 'Accelerations (high)': 4.0, 'Accelerations': 6.5}, 65: {'High Metabolic Power Distance (m)': 615.0, 'Accelerations (very high)': 1.0, 'Decelerations': 8.5}, 66: {'Speed (Ø) (km/h)': 10.3757000209088, 'Acceleration (max.) (m/s²)': 2.0136155978024233, 'Decelerations': 8.25}, 67: {'High Metabolic Power Distance / min (m)': 22.777204670042092, 'Accelerations (very high)': 1.0, 'Acceleration (max.) (m/s²)': 2.186290053984212}, 68: {'Acceleration Load (max.)': 7.723857259465072, 'Deceleration (max.) (m/s²)': -3.2829247897536655, 'Accelerations': 6.25}, 69: {'Time on Ice (s)': 2125.75, 'Acceleration Load (max.)': 7.917662502612898, 'Acceleration (max.) (m/s²)': 2.2506800701330354}, 70: {'Speed (max.) (km/h)': 19.574038235146862, 'Accelerations': 6.5, 'Decelerations': 8.5}, 71: {'Distance (m)': 4846.0, 'Speed (max.) (km/h)': 18.966894877602872, 'Decelerations': 8.5}, 72: {'High Metabolic Power Distance / min (m)': 22.848588955191627, 'Accelerations': 6.5, 'Decelerations': 8.25}, 73: {'Distance (m)': 4755.75, 'Time on Ice (s)': 2195.75, 'Acceleration (max.) (m/s²)': 2.205324372343204}, 74: {'Distance / min (m)': 135.42393446513054, 'High Metabolic Power Distance (m)': 655.75, 'Speed (Ø) (km/h)': 10.521130214154823}, 75: {'Acceleration Load (max.)': 7.766092608810029, 'Speed (Ø) (km/h)': 10.272794595665875, 'Decelerations': 8.25}, 76: {'Distance (m)': 4723.0, 'Time on Ice (s)': 2106.0, 'Acceleration Load (max.)': 7.680274204827836}, 77: {'High Metabolic Power Distance (m)': 594.25, 'High Metabolic Power Distance / min (m)': 21.216251062380337, 'Deceleration (max.) (m/s²)': -3.0853208562986443}, 78: {'Speed (max.) (km/h)': 18.868220342232867, 'Acceleration (max.) (m/s²)': 2.2901900378078923, 'Deceleration (max.) (m/s²)': -3.0953791691859047}, 79: {'Distance / min (m)': 133.62762997874475, 'Acceleration Load (max.)': 7.737472521370774, 'Decelerations': 8.25}, 80: {'Distance (m)': 4718.25, 'Speed (max.) (km/h)': 19.754264964076462, 'Deceleration (max.) (m/s²)': -3.1130792785695833}, 81: {'Speed (max.) (km/h)': 18.562278623153155, 'Speed (Ø) (km/h)': 10.768574397024434, 'Accelerations': 6.0}, 82: {'Distance / min (m)': 129.29537820786186, 'Acceleration Load (max.)': 7.448338441879271, 'Decelerations': 8.5}, 83: {'Distance (m)': 4537.5, 'Speed (Ø) (km/h)': 9.88958108425008, 'Acceleration (max.) (m/s²)': 2.189432719470604}, 84: {'Accelerations (high)': 4.0, 'Acceleration Load (max.)': 7.818608395666251, 'Acceleration (max.) (m/s²)': 2.2065185275190657}, 85: {'Distance / min (m)': 124.41559704851649, 'Speed (Ø) (km/h)': 10.568696516425657, 'Accelerations': 6.0}, 86: {'Accelerations (high)': 3.75, 'Deceleration (max.) (m/s²)': -3.1634413773933967, 'Decelerations': 8.25}, 87: {'Time on Ice (s)': 2174.75, 'Acceleration Load (max.)': 7.515466376676084, 'Speed (Ø) (km/h)': 9.662231563783832}, 88: {'Distance / min (m)': 131.67823475309712, 'Accelerations': 6.0, 'Decelerations': 8.25}, 89: {'Time on Ice (s)': 2102.5, 'High Metabolic Power Distance (m)': 632.75, 'High Metabolic Power Distance / min (m)': 22.619486394314947}, 90: {'Accelerations (high)': 3.75, 'Speed (max.) (km/h)': 19.134668009975073, 'Accelerations': 6.0}, 91: {'Distance / min (m)': 137.1820732940703, 'High Metabolic Power Distance (m)': 635.0, 'Accelerations (high)': 4.0}, 92: {'Distance (m)': 5157.5, 'Time on Ice (s)': 2180.25, 'High Metabolic Power Distance / min (m)': 22.970180396920668}, 93: {'Accelerations (high)': 4.0, 'Speed (Ø) (km/h)': 10.278755346279462, 'Decelerations': 8.0}, 94: {'Time on Ice (s)': 2191.75, 'Accelerations (high)': 4.0, 'Decelerations': 8.25}, 95: {'Accelerations (high)': 3.75, 'Acceleration (max.) (m/s²)': 2.131633222868148, 'Deceleration (max.) (m/s²)': -3.3045377707760184}, 96: {'Time on Ice (s)': 2233.75, 'High Metabolic Power Distance (m)': 673.0, 'High Metabolic Power Distance / min (m)': 23.86705792739363}, 97: {'Time on Ice (s)': 2192.25, 'High Metabolic Power Distance / min (m)': 21.59014703751176, 'Deceleration (max.) (m/s²)': -3.272066038726957}, 98: {'Speed (max.) (km/h)': 19.060902417426703, 'Acceleration (max.) (m/s²)': 2.177647364858111, 'Deceleration (max.) (m/s²)': -3.1488702876940367}, 99: {'Distance / min (m)': 130.3250453454669, 'High Metabolic Power Distance (m)': 598.25, 'Accelerations (high)': 3.5}, 100: {'Accelerations (very high)': 1.0, 'Acceleration Load (max.)': 8.227926751980787, 'Deceleration (max.) (m/s²)': -3.375388364451652}, 101: {'High Metabolic Power Distance / min (m)': 20.857664956245074, 'Accelerations (high)': 3.5, 'Decelerations': 8.5}, 102: {'Distance / min (m)': 128.9842265087574, 'Acceleration Load (max.)': 7.6342167459778585, 'Decelerations': 8.75}, 103: {'Distance / min (m)': 133.0254686720635, 'High Metabolic Power Distance (m)': 647.25, 'Acceleration Load (max.)': 7.90485942991328}, 104: {'Distance / min (m)': 131.9916241356194, 'Accelerations (high)': 3.75, 'Speed (max.) (km/h)': 19.570596640791003}, 105: {'Distance (m)': 4840.5, 'High Metabolic Power Distance (m)': 658.0, 'High Metabolic Power Distance / min (m)': 22.425296637236812}, 106: {'Time on Ice (s)': 2004.5, 'Speed (Ø) (km/h)': 10.24173897765202, 'Deceleration (max.) (m/s²)': -3.3026827735308553}, 107: {'Accelerations (high)': 4.0, 'Speed (max.) (km/h)': 19.79134580646492, 'Acceleration (max.) (m/s²)': 2.144438368593293}, 108: {'Time on Ice (s)': 2082.0, 'Speed (max.) (km/h)': 19.216622432195024, 'Acceleration (max.) (m/s²)': 2.1320176903155863}, 109: {'Distance (m)': 4885.0, 'Distance / min (m)': 126.32391990100557, 'Time on Ice (s)': 2212.75}, 110: {'Distance / min (m)': 124.16371481528834, 'High Metabolic Power Distance / min (m)': 20.820349269720175, 'Deceleration (max.) (m/s²)': -3.3325086579697025}, 111: {'Distance (m)': 4741.0, 'Accelerations (high)': 3.75, 'Deceleration (max.) (m/s²)': -3.156019326908593}, 112: {'Distance (m)': 4653.25, 'Time on Ice (s)': 2154.5, 'Decelerations': 8.75}, 113: {'Distance (m)': 4700.75, 'Acceleration (max.) (m/s²)': 2.1617516472498415, 'Accelerations': 6.5}, 114: {'Accelerations (high)': 4.0, 'Deceleration (max.) (m/s²)': -3.2782810580973973, 'Accelerations': 6.25}, 115: {'Acceleration Load (max.)': 7.887996449999305, 'Acceleration (max.) (m/s²)': 2.0679971064538254, 'Decelerations': 8.0}, 116: {'Distance (m)': 4906.75, 'Speed (max.) (km/h)': 20.315411035472632, 'Deceleration (max.) (m/s²)': -3.2433312601750517}, 117: {'Distance (m)': 4996.0, 'High Metabolic Power Distance (m)': 671.0, 'Accelerations': 6.75}, 118: {'Time on Ice (s)': 2163.25, 'Acceleration Load (max.)': 7.188866964392301, 'Acceleration (max.) (m/s²)': 2.1703487995517072}, 119: {'High Metabolic Power Distance (m)': 649.75, 'Speed (Ø) (km/h)': 10.890725626997776, 'Decelerations': 8.5}, 120: {'Distance (m)': 4596.75, 'Accelerations (high)': 3.75, 'Speed (max.) (km/h)': 20.03060117487064}, 121: {'Speed (max.) (km/h)': 19.01109155100272, 'Acceleration (max.) (m/s²)': 2.2178157356404973, 'Decelerations': 8.25}, 122: {'Distance / min (m)': 125.65936022994646, 'High Metabolic Power Distance (m)': 605.75, 'Accelerations (high)': 3.75}, 123: {'Distance / min (m)': 131.22475122885692, 'Acceleration Load (max.)': 8.007496292141862, 'Decelerations': 8.5}, 124: {'Time on Ice (s)': 2268.5, 'Accelerations (very high)': 1.0, 'Speed (Ø) (km/h)': 10.815316666287638}, 125: {'High Metabolic Power Distance / min (m)': 21.365011535558065, 'Accelerations (high)': 3.75, 'Deceleration (max.) (m/s²)': -3.232898324206271}, 126: {'Acceleration Load (max.)': 7.9525070950197625, 'Acceleration (max.) (m/s²)': 2.1770628329628323, 'Decelerations': 8.0}, 127: {'High Metabolic Power Distance / min (m)': 20.99858875954611, 'Speed (max.) (km/h)': 19.114833820411686, 'Accelerations': 6.25}, 128: {'Distance (m)': 5058.75, 'High Metabolic Power Distance / min (m)': 23.85560842452116, 'Decelerations': 8.5}, 129: {'Distance (m)': 4950.0, 'Distance / min (m)': 133.85065288736803, 'Decelerations': 8.75}, 130: {'Accelerations (very high)': 1.0, 'Speed (Ø) (km/h)': 11.09012966258576, 'Deceleration (max.) (m/s²)': -3.125302576108584}, 131: {'Distance (m)': 4926.0, 'Deceleration (max.) (m/s²)': -3.274228768618478, 'Accelerations': 6.5}, 132: {'High Metabolic Power Distance (m)': 658.25, 'Acceleration (max.) (m/s²)': 2.2268273564451606, 'Accelerations': 6.0}, 133: {'Accelerations (high)': 3.75, 'Speed (Ø) (km/h)': 10.161354266114865, 'Decelerations': 8.5}, 134: {'Distance / min (m)': 128.62572426487253, 'High Metabolic Power Distance (m)': 603.75, 'Accelerations (high)': 3.75}, 135: {'Distance (m)': 4602.25, 'Accelerations (high)': 4.0, 'Speed (Ø) (km/h)': 10.734805764069481}, 136: {'Distance (m)': 4925.0, 'Distance / min (m)': 119.79138407020048, 'Accelerations (high)': 4.0}, 137: {'High Metabolic Power Distance (m)': 654.75, 'High Metabolic Power Distance / min (m)': 23.046710950107297, 'Accelerations (high)': 3.5}, 138: {'High Metabolic Power Distance / min (m)': 23.440148007708157, 'Speed (Ø) (km/h)': 10.812467821053266, 'Deceleration (max.) (m/s²)': -3.227228004535526}, 139: {'High Metabolic Power Distance / min (m)': 22.131658640749755, 'Deceleration (max.) (m/s²)': -3.2947257911465737, 'Accelerations': 6.5}, 140: {'High Metabolic Power Distance (m)': 609.0, 'Speed (max.) (km/h)': 19.108639074602046, 'Speed (Ø) (km/h)': 10.22839551649853}, 141: {'Distance (m)': 4724.25, 'Time on Ice (s)': 1996.0, 'Accelerations (high)': 3.75}, 142: {'Acceleration Load (max.)': 7.999888445055012, 'Speed (Ø) (km/h)': 10.887577029423795, 'Deceleration (max.) (m/s²)': -3.3210870888723996}, 143: {'High Metabolic Power Distance / min (m)': 22.755856263944594, 'Speed (max.) (km/h)': 20.63139452306027, 'Decelerations': 9.0}, 144: {'Distance / min (m)': 129.0250303981494, 'Time on Ice (s)': 2095.5, 'Accelerations': 6.0}, 145: {'Accelerations (high)': 3.75, 'Accelerations': 6.5, 'Decelerations': 8.75}, 146: {'High Metabolic Power Distance (m)': 642.5, 'High Metabolic Power Distance / min (m)': 23.34169957681675, 'Accelerations': 6.5}, 147: {'Distance (m)': 4565.0, 'Acceleration Load (max.)': 7.6100547621393435, 'Accelerations': 6.25}, 148: {'Distance (m)': 4884.5, 'Speed (max.) (km/h)': 18.894648925431095, 'Deceleration (max.) (m/s²)': -3.1256438955885892}, 149: {'Speed (max.) (km/h)': 19.9304595952436, 'Speed (Ø) (km/h)': 10.59942547914751, 'Accelerations': 6.5}, 150: {'Distance / min (m)': 123.5459934407162, 'Speed (max.) (km/h)': 18.959044179890522, 'Decelerations': 8.0}}\n"
     ]
    }
   ],
   "source": [
    "print(strengths_dict)\n",
    "print(weaknesses_dict)"
   ]
  }
 ],
 "metadata": {
  "kernelspec": {
   "display_name": "Python 3",
   "language": "python",
   "name": "python3"
  },
  "language_info": {
   "codemirror_mode": {
    "name": "ipython",
    "version": 3
   },
   "file_extension": ".py",
   "mimetype": "text/x-python",
   "name": "python",
   "nbconvert_exporter": "python",
   "pygments_lexer": "ipython3",
   "version": "3.9.13"
  },
  "orig_nbformat": 4
 },
 "nbformat": 4,
 "nbformat_minor": 2
}
