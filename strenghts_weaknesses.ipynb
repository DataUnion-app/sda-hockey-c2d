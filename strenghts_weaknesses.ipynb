{
 "cells": [
  {
   "cell_type": "code",
   "execution_count": 150,
   "metadata": {},
   "outputs": [],
   "source": [
    "import pandas as pd\n",
    "import numpy as np\n",
    "import matplotlib.pyplot as plt\n",
    "from matplotlib.lines import Line2D\n"
   ]
  },
  {
   "cell_type": "markdown",
   "metadata": {},
   "source": [
    "read csv from github and filter for only \"Match\" Data"
   ]
  },
  {
   "cell_type": "code",
   "execution_count": 151,
   "metadata": {},
   "outputs": [],
   "source": [
    "url = \"https://raw.githubusercontent.com/philippdrebes/sda-hockey-c2d/main/data/data.csv\"\n",
    "data = pd.read_csv(url, sep=\";\", encoding_errors=\"ignore\")\n",
    "condition = data['Types'] == \"Match\" \n",
    "match_data = data[condition]\n",
    "match_data = match_data[['Player ID', 'Position', 'Distance / min (m)',   'High Metabolic Power Distance / min (m)', 'Acceleration Load (max.)', 'Speed (max.) (km/h)', 'Speed (Ø) (km/h)', 'Acceleration (max.) (m/s²)', 'Deceleration (max.) (m/s²)', 'Accelerations / min', 'Decelerations / min']]"
   ]
  },
  {
   "cell_type": "markdown",
   "metadata": {},
   "source": [
    "group dataframe by player id"
   ]
  },
  {
   "cell_type": "code",
   "execution_count": 152,
   "metadata": {},
   "outputs": [],
   "source": [
    "avg_player = match_data.groupby(['Player ID', 'Position'], as_index=False).mean()"
   ]
  },
  {
   "cell_type": "markdown",
   "metadata": {},
   "source": [
    "group dataframe by position"
   ]
  },
  {
   "cell_type": "code",
   "execution_count": 153,
   "metadata": {},
   "outputs": [],
   "source": [
    "avg_position = match_data.groupby('Position', as_index=False).mean()\n",
    "avg_position = avg_position.drop(\"Player ID\", axis=1)"
   ]
  },
  {
   "cell_type": "markdown",
   "metadata": {},
   "source": [
    "create df with aggregated values (player values relative to average values of position)"
   ]
  },
  {
   "cell_type": "code",
   "execution_count": 154,
   "metadata": {},
   "outputs": [],
   "source": [
    "rows = avg_player.shape[0]\n",
    "values = []\n",
    "\n",
    "for i in range(rows):\n",
    "    dict_values = {}\n",
    "    pos = avg_player.at[i,\"Position\"]\n",
    "    dict_values[\"Player ID\"] = avg_player.at[i,\"Player ID\"]\n",
    "    for col in avg_player.columns:\n",
    "        if col != \"Player ID\" and col != \"Position\":\n",
    "            relative = avg_player.at[i, col] / avg_position.loc[avg_position['Position'] == pos, col].values[0]\n",
    "            dict_values[col] = relative\n",
    "    values.append(dict_values)\n",
    "\n",
    "agg_df = pd.DataFrame(values)\n",
    "    "
   ]
  },
  {
   "cell_type": "markdown",
   "metadata": {},
   "source": [
    "evaluate agg_df and create two dfs (strengths and weaknesses) filtering only top and bottom 3 values per player"
   ]
  },
  {
   "cell_type": "code",
   "execution_count": 155,
   "metadata": {},
   "outputs": [],
   "source": [
    "cols_for_evaluation = [col for col in agg_df.columns if col != \"Player ID\"]\n",
    "\n",
    "# Perform the nlargest calculation on the other columns\n",
    "strengths_df = (agg_df[cols_for_evaluation]\n",
    "                  .stack()\n",
    "                  .groupby(level=0)\n",
    "                  .nlargest(3)\n",
    "                  .unstack()\n",
    "                  .reset_index(level=1, drop=True)\n",
    "                  .reindex(columns=cols_for_evaluation))\n",
    "\n",
    "# Reinsert the \"Player ID\" column into strengths_df\n",
    "strengths_df.insert(0, 'Player ID', agg_df['Player ID'])\n",
    "\n",
    "# Perform the nlargest calculation on the other columns\n",
    "weaknesses_df = (agg_df[cols_for_evaluation]\n",
    "                  .stack()\n",
    "                  .groupby(level=0)\n",
    "                  .nsmallest(3)\n",
    "                  .unstack()\n",
    "                  .reset_index(level=1, drop=True)\n",
    "                  .reindex(columns=cols_for_evaluation))\n",
    "\n",
    "# Reinsert the \"Player ID\" column into strengths_df\n",
    "weaknesses_df.insert(0, 'Player ID', agg_df['Player ID'])"
   ]
  },
  {
   "cell_type": "markdown",
   "metadata": {},
   "source": [
    "create dictionaries containing the weaknesses and strenghts for each player"
   ]
  },
  {
   "cell_type": "code",
   "execution_count": 156,
   "metadata": {},
   "outputs": [],
   "source": [
    "rows = strengths_df.shape[0]\n",
    "\n",
    "strengths_dict = {}\n",
    "weaknesses_dict = {}\n",
    "\n",
    "for i in range(rows):\n",
    "    strengths_dict[strengths_df.at[i, \"Player ID\"]] = {}\n",
    "    for col in strengths_df.columns:\n",
    "        if col != \"Player ID\" and not np.isnan(strengths_df.loc[i, col]):\n",
    "            strengths_dict[strengths_df.at[i, \"Player ID\"]][col] = strengths_df.at[i, col]\n",
    "\n",
    "for i in range(rows):\n",
    "    weaknesses_dict[weaknesses_df.at[i, \"Player ID\"]] = {}\n",
    "    for col in weaknesses_df.columns:\n",
    "        if col != \"Player ID\" and not np.isnan(weaknesses_df.loc[i, col]):\n",
    "            weaknesses_dict[weaknesses_df.at[i, \"Player ID\"]][col] = weaknesses_df.at[i, col]\n",
    "            "
   ]
  },
  {
   "cell_type": "markdown",
   "metadata": {},
   "source": [
    "create function that retrieves strengths and weaknesses for one player from dictionaries, merges them in a dataframe and adds the reference values of the position group."
   ]
  },
  {
   "cell_type": "code",
   "execution_count": 157,
   "metadata": {},
   "outputs": [],
   "source": [
    "def prepare_for_visualization(player_id=2):\n",
    "    #filter dictionaries based on input variable\n",
    "    player_strengths = strengths_dict[player_id]\n",
    "    player_weaknesses = weaknesses_dict[player_id]\n",
    "    #create dataframes\n",
    "    strength_df = pd.DataFrame([player_strengths])\n",
    "    weaknesses_df = pd.DataFrame([player_weaknesses])\n",
    "    #insert Player ID into dataframes and reorder columns to make sure Player ID is the first columns\n",
    "    strength_df['Player ID'] = player_id\n",
    "    weaknesses_df['Player ID'] = player_id\n",
    "    strength_df = strength_df[['Player ID'] + [col for col in strength_df.columns if col != 'Player ID']]\n",
    "    weaknesses_df = weaknesses_df[['Player ID'] + [col for col in weaknesses_df.columns if col != 'Player ID']]\n",
    "    #merge strengths and weaknesses together\n",
    "    player_df = pd.merge(strength_df, weaknesses_df, on=\"Player ID\", how=\"inner\")\n",
    "    #lookup position of player\n",
    "    position = avg_player.loc[avg_player['Player ID'] == player_id, 'Position'].values[0]\n",
    "    #get values of best player\n",
    "    condition = avg_player['Position'] == position \n",
    "    filtered_df = avg_player[condition]\n",
    "    relevant_players = filtered_df[\"Player ID\"].tolist()\n",
    "    condition2= agg_df[\"Player ID\"].isin(relevant_players)\n",
    "    filtered_df2 = agg_df[condition2]\n",
    "    row_sums = filtered_df2.iloc[:, 1:].sum(axis=1)\n",
    "    max_row_index = row_sums.idxmax()\n",
    "    player_id_with_highest_sum = agg_df.loc[max_row_index, 'Player ID']\n",
    "    bestval1 = agg_df.loc[agg_df['Player ID'] == player_id_with_highest_sum, player_df.columns[1]].values[0]\n",
    "    bestval2 = agg_df.loc[agg_df['Player ID'] == player_id_with_highest_sum, player_df.columns[2]].values[0]\n",
    "    bestval3 = agg_df.loc[agg_df['Player ID'] == player_id_with_highest_sum, player_df.columns[3]].values[0]\n",
    "    bestval4 = agg_df.loc[agg_df['Player ID'] == player_id_with_highest_sum, player_df.columns[4]].values[0]\n",
    "    bestval5 = agg_df.loc[agg_df['Player ID'] == player_id_with_highest_sum, player_df.columns[5]].values[0]\n",
    "    bestval6 = agg_df.loc[agg_df['Player ID'] == player_id_with_highest_sum, player_df.columns[6]].values[0]\n",
    "    best_player_row = pd.Series([\"Best Player\",bestval1, bestval2, bestval3, bestval4, bestval5, bestval6], index=player_df.columns)\n",
    "    player_df = player_df.append(best_player_row, ignore_index=True)\n",
    "    #add row to dataframe with reference values (reference values are always 1)\n",
    "    new_row = pd.Series([\"avg. Position value\",1,1,1,1,1,1], index=player_df.columns)\n",
    "    player_df = player_df.append(new_row, ignore_index=True)\n",
    "\n",
    "    return player_df"
   ]
  },
  {
   "cell_type": "code",
   "execution_count": 158,
   "metadata": {},
   "outputs": [
    {
     "name": "stderr",
     "output_type": "stream",
     "text": [
      "C:\\Users\\linus.niederhauser\\AppData\\Local\\Temp\\ipykernel_2312\\1389610833.py:33: FutureWarning: The frame.append method is deprecated and will be removed from pandas in a future version. Use pandas.concat instead.\n",
      "  player_df = player_df.append(best_player_row, ignore_index=True)\n",
      "C:\\Users\\linus.niederhauser\\AppData\\Local\\Temp\\ipykernel_2312\\1389610833.py:36: FutureWarning: The frame.append method is deprecated and will be removed from pandas in a future version. Use pandas.concat instead.\n",
      "  player_df = player_df.append(new_row, ignore_index=True)\n"
     ]
    }
   ],
   "source": [
    "player_df = prepare_for_visualization()"
   ]
  },
  {
   "cell_type": "markdown",
   "metadata": {},
   "source": [
    "define function for visualization"
   ]
  },
  {
   "cell_type": "code",
   "execution_count": 159,
   "metadata": {},
   "outputs": [],
   "source": [
    "def visualization(df=player_df):\n",
    "\n",
    "    BG_WHITE = \"#fbf9f4\"\n",
    "    BLUE = \"#2a475e\"\n",
    "    GREY70 = \"#b3b3b3\"\n",
    "    GREY_LIGHT = \"#f2efe8\"\n",
    "    COLORS = [\"#FF5A5F\", \"#FFB400\", \"#007A87\"]\n",
    "\n",
    "    # define categories\n",
    "    CATEGORIES = player_df[\"Player ID\"].values.tolist()\n",
    "\n",
    "    # define the six variables for the plot\n",
    "    VARIABLES = player_df.columns.tolist()[1:]\n",
    "    VARIABLES_N = len(VARIABLES)\n",
    "\n",
    "    # define the angles at which the values of the numeric variables are placed\n",
    "    ANGLES = [n / VARIABLES_N * 2 * np.pi for n in range(VARIABLES_N)]\n",
    "    ANGLES += ANGLES[:1]\n",
    "\n",
    "    # define padding used to customize the location of the tick labels\n",
    "    X_VERTICAL_TICK_PADDING = 5\n",
    "    X_HORIZONTAL_TICK_PADDING = 50    \n",
    "\n",
    "    # define angle values going from 0 to 2*pi\n",
    "    HANGLES = np.linspace(0, 2 * np.pi)\n",
    "\n",
    "    # Used for the equivalent of horizontal lines in cartesian coordinates plots \n",
    "    # The last one is also used to add a fill which acts a background color.\n",
    "    H0 = np.zeros(len(HANGLES))\n",
    "    H1 = np.ones(len(HANGLES)) * 0.5\n",
    "    H2 = np.ones(len(HANGLES))\n",
    "\n",
    "    # Initialize layout ----------------------------------------------\n",
    "    fig = plt.figure(figsize=(14, 10))\n",
    "    ax = fig.add_subplot(111, polar=True)\n",
    "\n",
    "    fig.patch.set_facecolor(BG_WHITE)\n",
    "    ax.set_facecolor(BG_WHITE)\n",
    "\n",
    "    # Rotate the \"\" 0 degrees on top. \n",
    "    # There it where the first variable, avg_bill_length, will go.\n",
    "    ax.set_theta_offset(np.pi / 2)\n",
    "    ax.set_theta_direction(-1)\n",
    "\n",
    "    # Plot lines and dots --------------------------------------------\n",
    "    all_values = []\n",
    "    for idx, species in enumerate(CATEGORIES):\n",
    "        values = player_df.iloc[idx].drop(\"Player ID\").values.tolist()\n",
    "        values += values[:1]\n",
    "        ax.plot(ANGLES, values, c=COLORS[idx], linewidth=4, label=species)\n",
    "        ax.scatter(ANGLES, values, s=160, c=COLORS[idx], zorder=10)\n",
    "        for value in values:\n",
    "            all_values.append(value)\n",
    "        \n",
    "    all_values.sort()\n",
    "    #setting limits for y axis\n",
    "    ax.set_ylim(all_values[0]*0.9, all_values[-1]*1.1)\n",
    "\n",
    "    # Set values for the angular axis (x)\n",
    "    ax.set_xticks(ANGLES[:-1])\n",
    "    ax.set_xticklabels(VARIABLES, size=14)\n",
    "\n",
    "    # Remove lines for radial axis (y)\n",
    "    ax.set_yticks([])\n",
    "\n",
    "    # Remove spines\n",
    "    ax.spines[\"start\"].set_color(\"none\")\n",
    "\n",
    "    #add legends\n",
    "    handles = [\n",
    "        Line2D(\n",
    "            [], [], \n",
    "            c=color, \n",
    "            lw=3, \n",
    "            marker=\"o\", \n",
    "            markersize=8, \n",
    "            label=species\n",
    "        )\n",
    "        for species, color in zip(CATEGORIES, COLORS)\n",
    "    ]\n",
    "\n",
    "    legend = ax.legend(\n",
    "        handles=handles,\n",
    "        loc=(1, 0),       # bottom-right\n",
    "        labelspacing=1.5, # add space between labels\n",
    "        frameon=False     # don't put a frame\n",
    "    )\n",
    "\n",
    "    # Iterate through text elements and change their properties\n",
    "    for text in legend.get_texts():\n",
    "        text.set_fontsize(16) \n",
    "\n",
    "    # Add title \n",
    "    fig.suptitle(\n",
    "        \"Radar Plot of Top 3 Player strengths and weaknesses compared to the average and the best player of his Position group\",\n",
    "        x = 0.1,\n",
    "        y = 1,\n",
    "        ha=\"left\",\n",
    "        fontsize=14,\n",
    "        color=BLUE,\n",
    "        weight=\"bold\",    \n",
    "    )\n",
    "\n",
    "    fig.savefig('C:/Users/linus.niederhauser/OneDrive/2. Semester/SDS/radarplot.png', bbox_inches='tight')\n",
    "    plt.close(fig)\n",
    "\n"
   ]
  },
  {
   "cell_type": "code",
   "execution_count": 160,
   "metadata": {},
   "outputs": [],
   "source": [
    "visualization()"
   ]
  },
  {
   "cell_type": "markdown",
   "metadata": {},
   "source": [
    "create function for description"
   ]
  },
  {
   "cell_type": "code",
   "execution_count": 161,
   "metadata": {},
   "outputs": [],
   "source": [
    "def description():\n",
    "    #get player id of current player\n",
    "    player_id = player_df.at[0, \"Player ID\"]\n",
    "    #get strengths and weaknesses (text, values and relative values)\n",
    "    strengths1_text = player_df.columns[1]\n",
    "    strengths1_value = \"{:.2f}\".format(avg_player.loc[avg_player['Player ID'] == player_id, player_df.columns[1]].values[0])\n",
    "    strenghts1_relative = \"{:.2f}\".format((player_df.loc[player_df['Player ID'] == player_id, player_df.columns[1]].values[0]-1)*100)\n",
    "    strengths2_text = player_df.columns[2]\n",
    "    strengths2_value = \"{:.2f}\".format(avg_player.loc[avg_player['Player ID'] == player_id, player_df.columns[2]].values[0])\n",
    "    strenghts2_relative = \"{:.2f}\".format((player_df.loc[player_df['Player ID'] == player_id, player_df.columns[2]].values[0]-1)*100)\n",
    "    strengths3_text = player_df.columns[3]\n",
    "    strengths3_value = \"{:.2f}\".format(avg_player.loc[avg_player['Player ID'] == player_id, player_df.columns[3]].values[0])\n",
    "    strenghts3_relative = \"{:.2f}\".format((player_df.loc[player_df['Player ID'] == player_id, player_df.columns[3]].values[0]-1)*100)\n",
    "    weakness1_text = player_df.columns[4]\n",
    "    weakness1_value = \"{:.2f}\".format(avg_player.loc[avg_player['Player ID'] == player_id, player_df.columns[4]].values[0])\n",
    "    weakness1_relative = \"{:.2f}\".format((1-player_df.loc[player_df['Player ID'] == player_id, player_df.columns[4]].values[0])*100)\n",
    "    weakness2_text = player_df.columns[5]\n",
    "    weakness2_value = \"{:.2f}\".format(avg_player.loc[avg_player['Player ID'] == player_id, player_df.columns[5]].values[0])\n",
    "    weakness2_relative = \"{:.2f}\".format((1-player_df.loc[player_df['Player ID'] == player_id, player_df.columns[5]].values[0])*100)\n",
    "    weakness3_text = player_df.columns[6]\n",
    "    weakness3_value = \"{:.2f}\".format(avg_player.loc[avg_player['Player ID'] == player_id, player_df.columns[6]].values[0])\n",
    "    weakness3_relative = \"{:.2f}\".format((1-player_df.loc[player_df['Player ID'] == player_id, player_df.columns[6]].values[0])*100)\n",
    "    #create string\n",
    "    description = f\"\"\"\n",
    "    Your three biggest strengths are:\n",
    "    \\t1. {strengths1_text} with an absolute value of {strengths1_value} which is {strenghts1_relative}% higher than the average of your Position group.\n",
    "    \\t2. {strengths2_text} with an absolute value of {strengths2_value} which is {strenghts2_relative}% higher than the average of your Position group.\n",
    "    \\t3. {strengths3_text} with an absolute value of {strengths3_value} which is {strenghts3_relative}% higher than the average of your Position group.\\n\n",
    "    Your three biggest weaknesses are:\n",
    "    \\t1. {weakness1_text} with an absolute value of {weakness1_value} which is {weakness1_relative}% lower than the average of your Position group.\n",
    "    \\t2. {weakness2_text} with an absolute value of {weakness2_value} which is {weakness2_relative}% lower than the average of your Position group.\n",
    "    \\t3. {weakness3_text} with an absolute value of {weakness3_value} which is {weakness3_relative}% lower than the average of your Position group.\n",
    "    \"\"\"\n",
    "    # Specify the file path where you want to save the text document\n",
    "    file_path = \"C:/Users/linus.niederhauser/OneDrive/2. Semester/SDS/description.txt\"\n",
    "    # Open the file in write mode ('w')\n",
    "    with open(file_path, 'w') as file:\n",
    "        # Write the string data to the file\n",
    "        file.write(description)"
   ]
  },
  {
   "cell_type": "code",
   "execution_count": 162,
   "metadata": {},
   "outputs": [],
   "source": [
    "description()"
   ]
  }
 ],
 "metadata": {
  "kernelspec": {
   "display_name": "Python 3",
   "language": "python",
   "name": "python3"
  },
  "language_info": {
   "codemirror_mode": {
    "name": "ipython",
    "version": 3
   },
   "file_extension": ".py",
   "mimetype": "text/x-python",
   "name": "python",
   "nbconvert_exporter": "python",
   "pygments_lexer": "ipython3",
   "version": "3.9.13"
  },
  "orig_nbformat": 4
 },
 "nbformat": 4,
 "nbformat_minor": 2
}
