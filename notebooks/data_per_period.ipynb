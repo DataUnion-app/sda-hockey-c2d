{
 "cells": [
  {
   "cell_type": "code",
   "execution_count": 25,
   "metadata": {
    "ExecuteTime": {
     "end_time": "2023-09-21T06:59:32.519710Z",
     "start_time": "2023-09-21T06:59:32.503996Z"
    }
   },
   "outputs": [],
   "source": [
    "import pandas as pd\n",
    "import numpy as np\n",
    "import matplotlib.pyplot as plt\n",
    "from matplotlib.lines import Line2D"
   ]
  },
  {
   "cell_type": "markdown",
   "metadata": {},
   "source": [
    "read csv from github and filter for only \"Period\" Data"
   ]
  },
  {
   "cell_type": "code",
   "execution_count": 26,
   "metadata": {
    "ExecuteTime": {
     "end_time": "2023-09-21T06:59:32.956675Z",
     "start_time": "2023-09-21T06:59:32.521356Z"
    }
   },
   "outputs": [],
   "source": [
    "url = \"https://raw.githubusercontent.com/philippdrebes/sda-hockey-c2d/main/data/data.csv\"\n",
    "data = pd.read_csv(url, sep=\";\", encoding_errors=\"ignore\")\n",
    "condition = data['Types'] == \"Period\" \n",
    "match_data = data[condition]\n",
    "match_data = match_data[['Player ID', 'Description', 'Session ID','Position', 'Distance / min (m)',   'High Metabolic Power Distance / min (m)', 'Acceleration Load (max.)', 'Speed (max.) (km/h)', 'Speed (Ø) (km/h)', 'Acceleration (max.) (m/s²)', 'Deceleration (max.) (m/s²)', 'Accelerations / min', 'Decelerations / min']]"
   ]
  },
  {
   "cell_type": "markdown",
   "metadata": {},
   "source": [
    "create dataframes for player and position"
   ]
  },
  {
   "cell_type": "code",
   "execution_count": 27,
   "metadata": {
    "ExecuteTime": {
     "end_time": "2023-09-21T06:59:32.963741Z",
     "start_time": "2023-09-21T06:59:32.940295Z"
    }
   },
   "outputs": [
    {
     "data": {
      "text/plain": "     Player ID Description  Session ID Position  Distance / min (m)  \\\n42           1    Period 1         234        D               186.0   \n43           2    Period 1         234        F               235.0   \n44           3    Period 1         234        F               229.0   \n45           4    Period 1         234        D               218.0   \n46           5    Period 1         234        D               205.0   \n..         ...         ...         ...      ...                 ...   \n266         38    Overtime         194        F                 NaN   \n267         39    Overtime         194        F               287.0   \n268         40    Overtime         194        F               279.0   \n269         41    Overtime         194        F                 NaN   \n270         42    Overtime         194        F                 NaN   \n\n     High Metabolic Power Distance / min (m)  Acceleration Load (max.)  \\\n42                                      80.0                      6.79   \n43                                     132.0                      5.10   \n44                                     119.0                      4.92   \n45                                     100.0                     10.27   \n46                                      89.0                      4.70   \n..                                       ...                       ...   \n266                                      NaN                       NaN   \n267                                    165.0                      3.94   \n268                                    163.0                      3.74   \n269                                      NaN                       NaN   \n270                                      NaN                       NaN   \n\n     Speed (max.) (km/h)  Speed (Ø) (km/h)  Acceleration (max.) (m/s²)  \\\n42                 28.66             11.17                        3.44   \n43                 29.27             14.07                        3.74   \n44                 30.89             13.73                        3.68   \n45                 31.06             13.10                        3.58   \n46                 32.17             12.27                        3.54   \n..                   ...               ...                         ...   \n266                  NaN               NaN                         NaN   \n267                30.46             17.22                        3.37   \n268                27.26             16.76                        4.06   \n269                  NaN               NaN                         NaN   \n270                  NaN               NaN                         NaN   \n\n     Deceleration (max.) (m/s²)  Accelerations / min  Decelerations / min  \n42                        -5.72                 5.23                 5.66  \n43                        -4.54                 2.50                 3.12  \n44                        -6.30                 4.53                 5.05  \n45                        -5.91                 3.92                 4.88  \n46                        -6.92                 4.98                 4.98  \n..                          ...                  ...                  ...  \n266                         NaN                 0.00                 0.00  \n267                       -3.61                 3.77                 3.77  \n268                       -3.87                 4.32                 4.32  \n269                         NaN                 0.00                 0.00  \n270                         NaN                 0.00                 0.00  \n\n[208 rows x 13 columns]",
      "text/html": "<div>\n<style scoped>\n    .dataframe tbody tr th:only-of-type {\n        vertical-align: middle;\n    }\n\n    .dataframe tbody tr th {\n        vertical-align: top;\n    }\n\n    .dataframe thead th {\n        text-align: right;\n    }\n</style>\n<table border=\"1\" class=\"dataframe\">\n  <thead>\n    <tr style=\"text-align: right;\">\n      <th></th>\n      <th>Player ID</th>\n      <th>Description</th>\n      <th>Session ID</th>\n      <th>Position</th>\n      <th>Distance / min (m)</th>\n      <th>High Metabolic Power Distance / min (m)</th>\n      <th>Acceleration Load (max.)</th>\n      <th>Speed (max.) (km/h)</th>\n      <th>Speed (Ø) (km/h)</th>\n      <th>Acceleration (max.) (m/s²)</th>\n      <th>Deceleration (max.) (m/s²)</th>\n      <th>Accelerations / min</th>\n      <th>Decelerations / min</th>\n    </tr>\n  </thead>\n  <tbody>\n    <tr>\n      <th>42</th>\n      <td>1</td>\n      <td>Period 1</td>\n      <td>234</td>\n      <td>D</td>\n      <td>186.0</td>\n      <td>80.0</td>\n      <td>6.79</td>\n      <td>28.66</td>\n      <td>11.17</td>\n      <td>3.44</td>\n      <td>-5.72</td>\n      <td>5.23</td>\n      <td>5.66</td>\n    </tr>\n    <tr>\n      <th>43</th>\n      <td>2</td>\n      <td>Period 1</td>\n      <td>234</td>\n      <td>F</td>\n      <td>235.0</td>\n      <td>132.0</td>\n      <td>5.10</td>\n      <td>29.27</td>\n      <td>14.07</td>\n      <td>3.74</td>\n      <td>-4.54</td>\n      <td>2.50</td>\n      <td>3.12</td>\n    </tr>\n    <tr>\n      <th>44</th>\n      <td>3</td>\n      <td>Period 1</td>\n      <td>234</td>\n      <td>F</td>\n      <td>229.0</td>\n      <td>119.0</td>\n      <td>4.92</td>\n      <td>30.89</td>\n      <td>13.73</td>\n      <td>3.68</td>\n      <td>-6.30</td>\n      <td>4.53</td>\n      <td>5.05</td>\n    </tr>\n    <tr>\n      <th>45</th>\n      <td>4</td>\n      <td>Period 1</td>\n      <td>234</td>\n      <td>D</td>\n      <td>218.0</td>\n      <td>100.0</td>\n      <td>10.27</td>\n      <td>31.06</td>\n      <td>13.10</td>\n      <td>3.58</td>\n      <td>-5.91</td>\n      <td>3.92</td>\n      <td>4.88</td>\n    </tr>\n    <tr>\n      <th>46</th>\n      <td>5</td>\n      <td>Period 1</td>\n      <td>234</td>\n      <td>D</td>\n      <td>205.0</td>\n      <td>89.0</td>\n      <td>4.70</td>\n      <td>32.17</td>\n      <td>12.27</td>\n      <td>3.54</td>\n      <td>-6.92</td>\n      <td>4.98</td>\n      <td>4.98</td>\n    </tr>\n    <tr>\n      <th>...</th>\n      <td>...</td>\n      <td>...</td>\n      <td>...</td>\n      <td>...</td>\n      <td>...</td>\n      <td>...</td>\n      <td>...</td>\n      <td>...</td>\n      <td>...</td>\n      <td>...</td>\n      <td>...</td>\n      <td>...</td>\n      <td>...</td>\n    </tr>\n    <tr>\n      <th>266</th>\n      <td>38</td>\n      <td>Overtime</td>\n      <td>194</td>\n      <td>F</td>\n      <td>NaN</td>\n      <td>NaN</td>\n      <td>NaN</td>\n      <td>NaN</td>\n      <td>NaN</td>\n      <td>NaN</td>\n      <td>NaN</td>\n      <td>0.00</td>\n      <td>0.00</td>\n    </tr>\n    <tr>\n      <th>267</th>\n      <td>39</td>\n      <td>Overtime</td>\n      <td>194</td>\n      <td>F</td>\n      <td>287.0</td>\n      <td>165.0</td>\n      <td>3.94</td>\n      <td>30.46</td>\n      <td>17.22</td>\n      <td>3.37</td>\n      <td>-3.61</td>\n      <td>3.77</td>\n      <td>3.77</td>\n    </tr>\n    <tr>\n      <th>268</th>\n      <td>40</td>\n      <td>Overtime</td>\n      <td>194</td>\n      <td>F</td>\n      <td>279.0</td>\n      <td>163.0</td>\n      <td>3.74</td>\n      <td>27.26</td>\n      <td>16.76</td>\n      <td>4.06</td>\n      <td>-3.87</td>\n      <td>4.32</td>\n      <td>4.32</td>\n    </tr>\n    <tr>\n      <th>269</th>\n      <td>41</td>\n      <td>Overtime</td>\n      <td>194</td>\n      <td>F</td>\n      <td>NaN</td>\n      <td>NaN</td>\n      <td>NaN</td>\n      <td>NaN</td>\n      <td>NaN</td>\n      <td>NaN</td>\n      <td>NaN</td>\n      <td>0.00</td>\n      <td>0.00</td>\n    </tr>\n    <tr>\n      <th>270</th>\n      <td>42</td>\n      <td>Overtime</td>\n      <td>194</td>\n      <td>F</td>\n      <td>NaN</td>\n      <td>NaN</td>\n      <td>NaN</td>\n      <td>NaN</td>\n      <td>NaN</td>\n      <td>NaN</td>\n      <td>NaN</td>\n      <td>0.00</td>\n      <td>0.00</td>\n    </tr>\n  </tbody>\n</table>\n<p>208 rows × 13 columns</p>\n</div>"
     },
     "metadata": {},
     "output_type": "display_data"
    },
    {
     "data": {
      "text/plain": "      Position  Session ID Description        Player ID  Distance / min (m)  \\\n0            D         194    Overtime  avg of Position          274.750000   \n1            D         194    Period 1  avg of Position          215.333333   \n2            D         194    Period 2  avg of Position          200.600000   \n3            D         194    Period 3  avg of Position          219.400000   \n4            D         234    Period 1  avg of Position          214.923077   \n5            D         234    Period 2  avg of Position          203.615385   \n6            D         234    Period 3  avg of Position          199.538462   \n7            F         194    Overtime  avg of Position          294.166667   \n8            F         194    Period 1  avg of Position          254.615385   \n9            F         194    Period 2  avg of Position          234.615385   \n10           F         194    Period 3  avg of Position          244.666667   \n11           F         234    Period 1  avg of Position          241.769231   \n12           F         234    Period 2  avg of Position          230.846154   \n13           F         234    Period 3  avg of Position          216.833333   \n14          FW         234    Period 1  avg of Position          257.583333   \n15          FW         234    Period 2  avg of Position          243.750000   \n16          FW         234    Period 3  avg of Position          218.307692   \n17  Goalkeeper         194    Overtime  avg of Position           14.000000   \n18  Goalkeeper         194    Period 1  avg of Position           14.000000   \n19  Goalkeeper         194    Period 2  avg of Position           16.000000   \n20  Goalkeeper         194    Period 3  avg of Position           14.000000   \n21  Goalkeeper         234    Period 1  avg of Position           18.500000   \n22  Goalkeeper         234    Period 2  avg of Position           18.500000   \n23  Goalkeeper         234    Period 3  avg of Position           18.500000   \n\n    High Metabolic Power Distance / min (m)  Acceleration Load (max.)  \\\n0                                150.250000                  3.567500   \n1                                102.166667                  5.663333   \n2                                 85.600000                  6.070000   \n3                                 95.000000                  6.476000   \n4                                 95.000000                  6.566154   \n5                                 86.230769                  6.826154   \n6                                 79.461538                 12.470000   \n7                                186.833333                  3.925000   \n8                                151.923077                  7.043077   \n9                                127.538462                  6.188462   \n10                               135.250000                  6.523333   \n11                               129.692308                  7.203846   \n12                               111.307692                  8.309231   \n13                                81.916667                 10.034167   \n14                               148.500000                  6.426667   \n15                               128.416667                  7.971667   \n16                                93.692308                  9.581538   \n17                                 0.000000                  2.210000   \n18                                 0.000000                  3.850000   \n19                                 0.000000                  4.360000   \n20                                 0.000000                  3.300000   \n21                                 0.000000                  4.575000   \n22                                 0.500000                  3.955000   \n23                                 0.500000                  3.480000   \n\n    Speed (max.) (km/h)  Speed (Ø) (km/h)  Acceleration (max.) (m/s²)  \\\n0             24.655000         16.492500                    2.267500   \n1             29.451667         12.913333                    3.943333   \n2             29.000000         12.044000                    3.890000   \n3             29.300000         13.164000                    3.812000   \n4             28.840000         12.900000                    3.548462   \n5             29.446154         12.213077                    3.411538   \n6             28.517692         11.973846                    3.609231   \n7             28.403333         17.665000                    2.838333   \n8             31.464615         15.267692                    3.804615   \n9             30.633077         14.073077                    3.847692   \n10            30.691667         14.681667                    3.690833   \n11            30.900769         14.500769                    3.696154   \n12            29.944615         13.853846                    3.620769   \n13            29.543333         13.005833                    3.368333   \n14            32.081667         15.454167                    3.563333   \n15            30.930000         14.618333                    3.535833   \n16            30.022308         13.095385                    3.567692   \n17             7.440000          0.810000                    1.830000   \n18            11.440000          0.830000                    2.540000   \n19            12.420000          0.960000                    3.110000   \n20            12.990000          0.850000                    2.800000   \n21            13.120000          1.125000                    2.450000   \n22            17.510000          1.095000                    2.805000   \n23            17.380000          1.110000                    3.035000   \n\n    Deceleration (max.) (m/s²)  Accelerations / min  Decelerations / min  \n0                    -2.735000             3.170000             0.933333  \n1                    -5.475000             5.030000             5.095000  \n2                    -5.232000             3.875000             3.330000  \n3                    -5.692000             3.783333             3.606667  \n4                    -5.423846             4.531538             4.775385  \n5                    -4.897692             4.462308             4.068462  \n6                    -5.050769             3.473077             3.238462  \n7                    -3.325000             2.349231             1.856154  \n8                    -6.005385             4.837143             4.822857  \n9                    -6.010769             4.844286             4.035000  \n10                   -5.530000             4.499231             4.137692  \n11                   -5.539231             4.106923             4.240000  \n12                   -4.950000             4.300769             3.775385  \n13                   -4.893333             2.802308             2.406923  \n14                   -5.576667             3.618462             3.890000  \n15                   -5.365000             3.704615             3.326154  \n16                   -4.726154             3.371538             3.014615  \n17                   -1.440000             0.000000             0.000000  \n18                   -2.630000             0.050000             0.000000  \n19                   -3.390000             0.100000             0.000000  \n20                   -2.450000             0.250000             0.050000  \n21                   -1.970000             0.116667             0.050000  \n22                   -3.140000             0.083333             0.016667  \n23                   -3.610000             0.103333             0.103333  ",
      "text/html": "<div>\n<style scoped>\n    .dataframe tbody tr th:only-of-type {\n        vertical-align: middle;\n    }\n\n    .dataframe tbody tr th {\n        vertical-align: top;\n    }\n\n    .dataframe thead th {\n        text-align: right;\n    }\n</style>\n<table border=\"1\" class=\"dataframe\">\n  <thead>\n    <tr style=\"text-align: right;\">\n      <th></th>\n      <th>Position</th>\n      <th>Session ID</th>\n      <th>Description</th>\n      <th>Player ID</th>\n      <th>Distance / min (m)</th>\n      <th>High Metabolic Power Distance / min (m)</th>\n      <th>Acceleration Load (max.)</th>\n      <th>Speed (max.) (km/h)</th>\n      <th>Speed (Ø) (km/h)</th>\n      <th>Acceleration (max.) (m/s²)</th>\n      <th>Deceleration (max.) (m/s²)</th>\n      <th>Accelerations / min</th>\n      <th>Decelerations / min</th>\n    </tr>\n  </thead>\n  <tbody>\n    <tr>\n      <th>0</th>\n      <td>D</td>\n      <td>194</td>\n      <td>Overtime</td>\n      <td>avg of Position</td>\n      <td>274.750000</td>\n      <td>150.250000</td>\n      <td>3.567500</td>\n      <td>24.655000</td>\n      <td>16.492500</td>\n      <td>2.267500</td>\n      <td>-2.735000</td>\n      <td>3.170000</td>\n      <td>0.933333</td>\n    </tr>\n    <tr>\n      <th>1</th>\n      <td>D</td>\n      <td>194</td>\n      <td>Period 1</td>\n      <td>avg of Position</td>\n      <td>215.333333</td>\n      <td>102.166667</td>\n      <td>5.663333</td>\n      <td>29.451667</td>\n      <td>12.913333</td>\n      <td>3.943333</td>\n      <td>-5.475000</td>\n      <td>5.030000</td>\n      <td>5.095000</td>\n    </tr>\n    <tr>\n      <th>2</th>\n      <td>D</td>\n      <td>194</td>\n      <td>Period 2</td>\n      <td>avg of Position</td>\n      <td>200.600000</td>\n      <td>85.600000</td>\n      <td>6.070000</td>\n      <td>29.000000</td>\n      <td>12.044000</td>\n      <td>3.890000</td>\n      <td>-5.232000</td>\n      <td>3.875000</td>\n      <td>3.330000</td>\n    </tr>\n    <tr>\n      <th>3</th>\n      <td>D</td>\n      <td>194</td>\n      <td>Period 3</td>\n      <td>avg of Position</td>\n      <td>219.400000</td>\n      <td>95.000000</td>\n      <td>6.476000</td>\n      <td>29.300000</td>\n      <td>13.164000</td>\n      <td>3.812000</td>\n      <td>-5.692000</td>\n      <td>3.783333</td>\n      <td>3.606667</td>\n    </tr>\n    <tr>\n      <th>4</th>\n      <td>D</td>\n      <td>234</td>\n      <td>Period 1</td>\n      <td>avg of Position</td>\n      <td>214.923077</td>\n      <td>95.000000</td>\n      <td>6.566154</td>\n      <td>28.840000</td>\n      <td>12.900000</td>\n      <td>3.548462</td>\n      <td>-5.423846</td>\n      <td>4.531538</td>\n      <td>4.775385</td>\n    </tr>\n    <tr>\n      <th>5</th>\n      <td>D</td>\n      <td>234</td>\n      <td>Period 2</td>\n      <td>avg of Position</td>\n      <td>203.615385</td>\n      <td>86.230769</td>\n      <td>6.826154</td>\n      <td>29.446154</td>\n      <td>12.213077</td>\n      <td>3.411538</td>\n      <td>-4.897692</td>\n      <td>4.462308</td>\n      <td>4.068462</td>\n    </tr>\n    <tr>\n      <th>6</th>\n      <td>D</td>\n      <td>234</td>\n      <td>Period 3</td>\n      <td>avg of Position</td>\n      <td>199.538462</td>\n      <td>79.461538</td>\n      <td>12.470000</td>\n      <td>28.517692</td>\n      <td>11.973846</td>\n      <td>3.609231</td>\n      <td>-5.050769</td>\n      <td>3.473077</td>\n      <td>3.238462</td>\n    </tr>\n    <tr>\n      <th>7</th>\n      <td>F</td>\n      <td>194</td>\n      <td>Overtime</td>\n      <td>avg of Position</td>\n      <td>294.166667</td>\n      <td>186.833333</td>\n      <td>3.925000</td>\n      <td>28.403333</td>\n      <td>17.665000</td>\n      <td>2.838333</td>\n      <td>-3.325000</td>\n      <td>2.349231</td>\n      <td>1.856154</td>\n    </tr>\n    <tr>\n      <th>8</th>\n      <td>F</td>\n      <td>194</td>\n      <td>Period 1</td>\n      <td>avg of Position</td>\n      <td>254.615385</td>\n      <td>151.923077</td>\n      <td>7.043077</td>\n      <td>31.464615</td>\n      <td>15.267692</td>\n      <td>3.804615</td>\n      <td>-6.005385</td>\n      <td>4.837143</td>\n      <td>4.822857</td>\n    </tr>\n    <tr>\n      <th>9</th>\n      <td>F</td>\n      <td>194</td>\n      <td>Period 2</td>\n      <td>avg of Position</td>\n      <td>234.615385</td>\n      <td>127.538462</td>\n      <td>6.188462</td>\n      <td>30.633077</td>\n      <td>14.073077</td>\n      <td>3.847692</td>\n      <td>-6.010769</td>\n      <td>4.844286</td>\n      <td>4.035000</td>\n    </tr>\n    <tr>\n      <th>10</th>\n      <td>F</td>\n      <td>194</td>\n      <td>Period 3</td>\n      <td>avg of Position</td>\n      <td>244.666667</td>\n      <td>135.250000</td>\n      <td>6.523333</td>\n      <td>30.691667</td>\n      <td>14.681667</td>\n      <td>3.690833</td>\n      <td>-5.530000</td>\n      <td>4.499231</td>\n      <td>4.137692</td>\n    </tr>\n    <tr>\n      <th>11</th>\n      <td>F</td>\n      <td>234</td>\n      <td>Period 1</td>\n      <td>avg of Position</td>\n      <td>241.769231</td>\n      <td>129.692308</td>\n      <td>7.203846</td>\n      <td>30.900769</td>\n      <td>14.500769</td>\n      <td>3.696154</td>\n      <td>-5.539231</td>\n      <td>4.106923</td>\n      <td>4.240000</td>\n    </tr>\n    <tr>\n      <th>12</th>\n      <td>F</td>\n      <td>234</td>\n      <td>Period 2</td>\n      <td>avg of Position</td>\n      <td>230.846154</td>\n      <td>111.307692</td>\n      <td>8.309231</td>\n      <td>29.944615</td>\n      <td>13.853846</td>\n      <td>3.620769</td>\n      <td>-4.950000</td>\n      <td>4.300769</td>\n      <td>3.775385</td>\n    </tr>\n    <tr>\n      <th>13</th>\n      <td>F</td>\n      <td>234</td>\n      <td>Period 3</td>\n      <td>avg of Position</td>\n      <td>216.833333</td>\n      <td>81.916667</td>\n      <td>10.034167</td>\n      <td>29.543333</td>\n      <td>13.005833</td>\n      <td>3.368333</td>\n      <td>-4.893333</td>\n      <td>2.802308</td>\n      <td>2.406923</td>\n    </tr>\n    <tr>\n      <th>14</th>\n      <td>FW</td>\n      <td>234</td>\n      <td>Period 1</td>\n      <td>avg of Position</td>\n      <td>257.583333</td>\n      <td>148.500000</td>\n      <td>6.426667</td>\n      <td>32.081667</td>\n      <td>15.454167</td>\n      <td>3.563333</td>\n      <td>-5.576667</td>\n      <td>3.618462</td>\n      <td>3.890000</td>\n    </tr>\n    <tr>\n      <th>15</th>\n      <td>FW</td>\n      <td>234</td>\n      <td>Period 2</td>\n      <td>avg of Position</td>\n      <td>243.750000</td>\n      <td>128.416667</td>\n      <td>7.971667</td>\n      <td>30.930000</td>\n      <td>14.618333</td>\n      <td>3.535833</td>\n      <td>-5.365000</td>\n      <td>3.704615</td>\n      <td>3.326154</td>\n    </tr>\n    <tr>\n      <th>16</th>\n      <td>FW</td>\n      <td>234</td>\n      <td>Period 3</td>\n      <td>avg of Position</td>\n      <td>218.307692</td>\n      <td>93.692308</td>\n      <td>9.581538</td>\n      <td>30.022308</td>\n      <td>13.095385</td>\n      <td>3.567692</td>\n      <td>-4.726154</td>\n      <td>3.371538</td>\n      <td>3.014615</td>\n    </tr>\n    <tr>\n      <th>17</th>\n      <td>Goalkeeper</td>\n      <td>194</td>\n      <td>Overtime</td>\n      <td>avg of Position</td>\n      <td>14.000000</td>\n      <td>0.000000</td>\n      <td>2.210000</td>\n      <td>7.440000</td>\n      <td>0.810000</td>\n      <td>1.830000</td>\n      <td>-1.440000</td>\n      <td>0.000000</td>\n      <td>0.000000</td>\n    </tr>\n    <tr>\n      <th>18</th>\n      <td>Goalkeeper</td>\n      <td>194</td>\n      <td>Period 1</td>\n      <td>avg of Position</td>\n      <td>14.000000</td>\n      <td>0.000000</td>\n      <td>3.850000</td>\n      <td>11.440000</td>\n      <td>0.830000</td>\n      <td>2.540000</td>\n      <td>-2.630000</td>\n      <td>0.050000</td>\n      <td>0.000000</td>\n    </tr>\n    <tr>\n      <th>19</th>\n      <td>Goalkeeper</td>\n      <td>194</td>\n      <td>Period 2</td>\n      <td>avg of Position</td>\n      <td>16.000000</td>\n      <td>0.000000</td>\n      <td>4.360000</td>\n      <td>12.420000</td>\n      <td>0.960000</td>\n      <td>3.110000</td>\n      <td>-3.390000</td>\n      <td>0.100000</td>\n      <td>0.000000</td>\n    </tr>\n    <tr>\n      <th>20</th>\n      <td>Goalkeeper</td>\n      <td>194</td>\n      <td>Period 3</td>\n      <td>avg of Position</td>\n      <td>14.000000</td>\n      <td>0.000000</td>\n      <td>3.300000</td>\n      <td>12.990000</td>\n      <td>0.850000</td>\n      <td>2.800000</td>\n      <td>-2.450000</td>\n      <td>0.250000</td>\n      <td>0.050000</td>\n    </tr>\n    <tr>\n      <th>21</th>\n      <td>Goalkeeper</td>\n      <td>234</td>\n      <td>Period 1</td>\n      <td>avg of Position</td>\n      <td>18.500000</td>\n      <td>0.000000</td>\n      <td>4.575000</td>\n      <td>13.120000</td>\n      <td>1.125000</td>\n      <td>2.450000</td>\n      <td>-1.970000</td>\n      <td>0.116667</td>\n      <td>0.050000</td>\n    </tr>\n    <tr>\n      <th>22</th>\n      <td>Goalkeeper</td>\n      <td>234</td>\n      <td>Period 2</td>\n      <td>avg of Position</td>\n      <td>18.500000</td>\n      <td>0.500000</td>\n      <td>3.955000</td>\n      <td>17.510000</td>\n      <td>1.095000</td>\n      <td>2.805000</td>\n      <td>-3.140000</td>\n      <td>0.083333</td>\n      <td>0.016667</td>\n    </tr>\n    <tr>\n      <th>23</th>\n      <td>Goalkeeper</td>\n      <td>234</td>\n      <td>Period 3</td>\n      <td>avg of Position</td>\n      <td>18.500000</td>\n      <td>0.500000</td>\n      <td>3.480000</td>\n      <td>17.380000</td>\n      <td>1.110000</td>\n      <td>3.035000</td>\n      <td>-3.610000</td>\n      <td>0.103333</td>\n      <td>0.103333</td>\n    </tr>\n  </tbody>\n</table>\n</div>"
     },
     "metadata": {},
     "output_type": "display_data"
    }
   ],
   "source": [
    "player_data = match_data\n",
    "avg_position = match_data.groupby(['Position', 'Session ID', 'Description'], as_index=False).mean()\n",
    "avg_position[\"Player ID\"] = \"avg of Position\"\n",
    "\n",
    "display(player_data)\n",
    "display(avg_position)"
   ]
  },
  {
   "cell_type": "markdown",
   "metadata": {},
   "source": [
    "create function that creates dataframe based on player id and session id"
   ]
  },
  {
   "cell_type": "code",
   "execution_count": 28,
   "metadata": {
    "ExecuteTime": {
     "end_time": "2023-09-21T06:59:32.967427Z",
     "start_time": "2023-09-21T06:59:32.961939Z"
    }
   },
   "outputs": [],
   "source": [
    "def prepare_for_visualization(player_id=2, session_id=234, metric=\"Speed (Ø) (km/h)\"):\n",
    "    condition1 = player_data['Player ID'] == player_id \n",
    "    condition2 = player_data['Session ID'] == session_id \n",
    "    filtered_player_df = player_data[condition1 & condition2]\n",
    "    position = player_data.loc[player_data['Player ID'] == player_id, 'Position'].values[0]\n",
    "    condition_pos = avg_position[\"Position\"] == position\n",
    "    condition_pos2 = avg_position[\"Session ID\"] == session_id\n",
    "    filtered_pos_df = avg_position[condition_pos & condition_pos2]\n",
    "    column_order = filtered_player_df.columns\n",
    "    filtered_pos_df = filtered_pos_df[column_order]\n",
    "    result_df = pd.concat([filtered_player_df, filtered_pos_df], ignore_index=True)\n",
    "    \n",
    "    return result_df"
   ]
  },
  {
   "cell_type": "code",
   "execution_count": 29,
   "metadata": {
    "ExecuteTime": {
     "end_time": "2023-09-21T06:59:32.972242Z",
     "start_time": "2023-09-21T06:59:32.967664Z"
    }
   },
   "outputs": [],
   "source": [
    "visualization_df = prepare_for_visualization()"
   ]
  },
  {
   "cell_type": "markdown",
   "metadata": {},
   "source": [
    "create function for visualization"
   ]
  },
  {
   "cell_type": "code",
   "execution_count": 30,
   "metadata": {
    "ExecuteTime": {
     "end_time": "2023-09-21T06:59:32.988850Z",
     "start_time": "2023-09-21T06:59:32.976375Z"
    }
   },
   "outputs": [],
   "source": [
    "def create_subplots_for_metrics(df):\n",
    "    cols_not_needed = [\"Player ID\", \"Description\", \"Session ID\", \"Position\"]\n",
    "    METRICS = [col for col in visualization_df.columns if col not in cols_not_needed]\n",
    "    METRIC = METRICS[0]\n",
    "    PLAYERS = visualization_df[\"Player ID\"].unique()\n",
    "    PLAYER = PLAYERS[0]\n",
    "    # Get the metric columns\n",
    "    metric_columns = METRICS\n",
    "    \n",
    "    # Get unique IDs from the 'Player ID' column\n",
    "    unique_ids = df['Player ID'].unique()\n",
    "    \n",
    "    # Create a subplot grid based on the number of metric columns\n",
    "    num_metrics = len(metric_columns)\n",
    "    num_rows = (num_metrics + 2) // 3  \n",
    "    num_cols = min(num_metrics, 3)\n",
    "    \n",
    "    fig, axes = plt.subplots(num_rows, num_cols, figsize=(15, 5*num_rows))\n",
    "    \n",
    "    for idx, metric_col in enumerate(metric_columns):\n",
    "        row = idx // num_cols\n",
    "        col = idx % num_cols\n",
    "        \n",
    "        for unique_id in unique_ids:\n",
    "            id_filter = df['Player ID'] == unique_id\n",
    "            data = df[id_filter][['Description', metric_col]]\n",
    "            \n",
    "            ax = axes[row, col] if num_metrics > 1 else axes\n",
    "            if unique_id == PLAYER:\n",
    "                # Highlight points for ID = selected player with dots and labels\n",
    "                ax.plot(data['Description'], data[metric_col], label=f'{unique_id}', color=\"#0b53c1\", lw=2.4, zorder=10)\n",
    "                ax.scatter(data['Description'], data[metric_col], fc=\"w\", ec=\"#0b53c1\", s=60, lw=2.4, zorder=12)\n",
    "            else:\n",
    "                # Plot other IDs normally\n",
    "                ax.plot(data['Description'], data[metric_col], label=f'{unique_id}', color=\"#BFBFBF\", lw=1.5)\n",
    "                \n",
    "            ax.set_title(metric_col)\n",
    "            ax.set_xlabel('Description')\n",
    "            ax.set_ylabel('Value')\n",
    "            ax.legend()\n",
    "    \n",
    "    plt.tight_layout()\n",
    "    plt.savefig('output/linechart.png')\n",
    "    plt.close()\n",
    "\n"
   ]
  },
  {
   "cell_type": "code",
   "execution_count": 32,
   "metadata": {
    "ExecuteTime": {
     "end_time": "2023-09-21T06:59:38.717798Z",
     "start_time": "2023-09-21T06:59:38.101086Z"
    }
   },
   "outputs": [],
   "source": [
    "create_subplots_for_metrics(visualization_df)"
   ]
  },
  {
   "cell_type": "code",
   "execution_count": null,
   "outputs": [],
   "source": [],
   "metadata": {
    "collapsed": false
   }
  }
 ],
 "metadata": {
  "kernelspec": {
   "display_name": "Python 3",
   "language": "python",
   "name": "python3"
  },
  "language_info": {
   "codemirror_mode": {
    "name": "ipython",
    "version": 3
   },
   "file_extension": ".py",
   "mimetype": "text/x-python",
   "name": "python",
   "nbconvert_exporter": "python",
   "pygments_lexer": "ipython3",
   "version": "3.9.13"
  },
  "orig_nbformat": 4
 },
 "nbformat": 4,
 "nbformat_minor": 2
}
