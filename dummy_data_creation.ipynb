{
 "cells": [
  {
   "cell_type": "code",
   "execution_count": 14,
   "metadata": {},
   "outputs": [],
   "source": [
    "import pandas as pd\n",
    "import numpy as np"
   ]
  },
  {
   "cell_type": "markdown",
   "metadata": {},
   "source": [
    "Read data from source file"
   ]
  },
  {
   "cell_type": "code",
   "execution_count": 15,
   "metadata": {},
   "outputs": [],
   "source": [
    "dummy_data = pd.read_csv(\"c:/Users/linus.niederhauser/OneDrive/2. Semester/SDS/dummy_data.csv\", sep=\";\")"
   ]
  },
  {
   "cell_type": "markdown",
   "metadata": {},
   "source": [
    "Create copy of dataframe and only selecting needed columns"
   ]
  },
  {
   "cell_type": "code",
   "execution_count": 16,
   "metadata": {},
   "outputs": [],
   "source": [
    "dummy_copy = dummy_data[['Group Id', 'Player ID', 'Position', 'Distance (m)', 'Distance / min (m)', 'Time on Ice (s)', 'High Metabolic Power Distance (m)', 'High Metabolic Power Distance / min (m)', 'Accelerations (high)', 'Accelerations (very high)', 'Acceleration Load (max.)', 'Speed (max.) (km/h)', 'Speed (Ø) (km/h)', 'Acceleration (max.) (m/s²)', 'Deceleration (max.) (m/s²)', 'Accelerations', 'Decelerations']]"
   ]
  },
  {
   "cell_type": "markdown",
   "metadata": {},
   "source": [
    "define column types and fill NA values with random number (range = lower and upper bound)"
   ]
  },
  {
   "cell_type": "code",
   "execution_count": 17,
   "metadata": {},
   "outputs": [
    {
     "name": "stderr",
     "output_type": "stream",
     "text": [
      "C:\\Users\\linus.niederhauser\\AppData\\Local\\Temp\\ipykernel_25852\\3595228834.py:6: SettingWithCopyWarning: \n",
      "A value is trying to be set on a copy of a slice from a DataFrame.\n",
      "Try using .loc[row_indexer,col_indexer] = value instead\n",
      "\n",
      "See the caveats in the documentation: https://pandas.pydata.org/pandas-docs/stable/user_guide/indexing.html#returning-a-view-versus-a-copy\n",
      "  dummy_copy[col] = dummy_copy[col].astype(str)\n",
      "C:\\Users\\linus.niederhauser\\AppData\\Local\\Temp\\ipykernel_25852\\3595228834.py:21: SettingWithCopyWarning: \n",
      "A value is trying to be set on a copy of a slice from a DataFrame.\n",
      "Try using .loc[row_indexer,col_indexer] = value instead\n",
      "\n",
      "See the caveats in the documentation: https://pandas.pydata.org/pandas-docs/stable/user_guide/indexing.html#returning-a-view-versus-a-copy\n",
      "  dummy_copy[col] = dummy_copy[col].astype(int)\n",
      "C:\\Users\\linus.niederhauser\\AppData\\Local\\Temp\\ipykernel_25852\\3595228834.py:24: SettingWithCopyWarning: \n",
      "A value is trying to be set on a copy of a slice from a DataFrame.\n",
      "Try using .loc[row_indexer,col_indexer] = value instead\n",
      "\n",
      "See the caveats in the documentation: https://pandas.pydata.org/pandas-docs/stable/user_guide/indexing.html#returning-a-view-versus-a-copy\n",
      "  dummy_copy[col] = dummy_copy[col].astype(float)\n"
     ]
    }
   ],
   "source": [
    "str_cols = [\"Group Id\", \"Player ID\", \"Position\"]\n",
    "int_cols = [\"Distance (m)\", \"Time on Ice (s)\", \"High Metabolic Power Distance (m)\", \"Accelerations (high)\", \"Accelerations (very high)\", \"Accelerations\", \"Decelerations\"]\n",
    "float_cols = [\"Distance / min (m)\", \"High Metabolic Power Distance / min (m)\", \"High Metabolic Power Distance (m)\", \"Acceleration Load (max.)\", \"Speed (max.) (km/h)\", \"Speed (Ø) (km/h)\", \"Acceleration (max.) (m/s²)\", \"Deceleration (max.) (m/s²)\"]\n",
    "\n",
    "for col in str_cols:\n",
    "    dummy_copy[col] = dummy_copy[col].astype(str)\n",
    "\n",
    "rows = dummy_copy.shape[0]\n",
    "\n",
    "for i in range(rows):\n",
    "    for col_name in dummy_copy.columns:\n",
    "        if dummy_copy[col_name].dtype != \"object\":\n",
    "            lower_bound = 0.8 * dummy_copy.at[0,col_name]\n",
    "            upper_bound = 1.2 * dummy_copy.at[0,col_name]\n",
    "            try:\n",
    "                dummy_copy.at[i, col_name] = np.random.uniform(lower_bound, upper_bound)\n",
    "            except: \n",
    "                print(lower_bound, upper_bound, i, col_name)\n",
    "\n",
    "for col in int_cols:\n",
    "    dummy_copy[col] = dummy_copy[col].astype(int)\n",
    "\n",
    "for col in float_cols:\n",
    "    dummy_copy[col] = dummy_copy[col].astype(float)"
   ]
  },
  {
   "cell_type": "markdown",
   "metadata": {},
   "source": [
    "write df to csv"
   ]
  },
  {
   "cell_type": "code",
   "execution_count": 18,
   "metadata": {},
   "outputs": [],
   "source": [
    "dummy_copy.to_csv(\"dummy_data_complete.csv\")"
   ]
  }
 ],
 "metadata": {
  "kernelspec": {
   "display_name": "Python 3",
   "language": "python",
   "name": "python3"
  },
  "language_info": {
   "codemirror_mode": {
    "name": "ipython",
    "version": 3
   },
   "file_extension": ".py",
   "mimetype": "text/x-python",
   "name": "python",
   "nbconvert_exporter": "python",
   "pygments_lexer": "ipython3",
   "version": "3.9.13"
  },
  "orig_nbformat": 4
 },
 "nbformat": 4,
 "nbformat_minor": 2
}
