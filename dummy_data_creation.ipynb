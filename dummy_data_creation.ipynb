{
 "cells": [
  {
   "cell_type": "code",
   "execution_count": 78,
   "metadata": {},
   "outputs": [],
   "source": [
    "import pandas as pd\n",
    "import numpy as np"
   ]
  },
  {
   "cell_type": "code",
   "execution_count": 91,
   "metadata": {},
   "outputs": [],
   "source": [
    "dummy_data = pd.read_csv(\"c:/Users/linus.niederhauser/OneDrive/2. Semester/SDS/dummy_data.csv\", sep=\";\")"
   ]
  },
  {
   "cell_type": "code",
   "execution_count": 93,
   "metadata": {},
   "outputs": [],
   "source": [
    "str_cols = [\"Group Id\", \"Player ID\", \"Session ID\", \"Position\"]\n",
    "\n",
    "for col in str_cols:\n",
    "    dummy_data[col] = dummy_data[col].astype(str)\n",
    "\n",
    "rows = dummy_data.shape[0]\n",
    "\n",
    "for i in range(rows):\n",
    "    for col_name in dummy_data.columns:\n",
    "        if dummy_data[col_name].dtype != \"object\":\n",
    "            lower_bound = 0.8 * dummy_data.at[0,col_name]\n",
    "            upper_bound = 1.2 * dummy_data.at[0,col_name]\n",
    "            try:\n",
    "                dummy_data.at[i, col_name] = np.random.uniform(lower_bound, upper_bound)\n",
    "            except: \n",
    "                print(lower_bound, upper_bound, i, col_name)"
   ]
  },
  {
   "cell_type": "code",
   "execution_count": 94,
   "metadata": {},
   "outputs": [],
   "source": [
    "dummy_data.to_csv(\"dummy_data_complete.csv\")"
   ]
  }
 ],
 "metadata": {
  "kernelspec": {
   "display_name": "Python 3",
   "language": "python",
   "name": "python3"
  },
  "language_info": {
   "codemirror_mode": {
    "name": "ipython",
    "version": 3
   },
   "file_extension": ".py",
   "mimetype": "text/x-python",
   "name": "python",
   "nbconvert_exporter": "python",
   "pygments_lexer": "ipython3",
   "version": "3.9.13"
  },
  "orig_nbformat": 4
 },
 "nbformat": 4,
 "nbformat_minor": 2
}
